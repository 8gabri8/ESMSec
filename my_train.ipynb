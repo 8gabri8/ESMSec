{
 "cells": [
  {
   "cell_type": "code",
   "execution_count": 1,
   "id": "01013d6a",
   "metadata": {},
   "outputs": [],
   "source": [
    "# Enable autoreload extension\n",
    "%load_ext autoreload\n",
    "# Automatically reload all modules (except built-ins) before executing code\n",
    "%autoreload 2"
   ]
  },
  {
   "cell_type": "markdown",
   "id": "51a1f68d",
   "metadata": {},
   "source": [
    "# Necessary\n",
    "\n",
    "- Create VE\n",
    "- Create dataset"
   ]
  },
  {
   "cell_type": "code",
   "execution_count": 2,
   "id": "f09bf533",
   "metadata": {},
   "outputs": [
    {
     "name": "stdout",
     "output_type": "stream",
     "text": [
      "2.5.0+cu121\n"
     ]
    }
   ],
   "source": [
    "import sys\n",
    "import os\n",
    "sys.path.append(os.path.abspath(\"/home/gdallagl/myworkdir/ESMSec/utils\"))  # Adds current folder to Python path\n",
    "\n",
    "import utils.my_functions as mf\n",
    "import utils.models as my_models\n",
    "import utils.dataset as my_dataset\n",
    "import utils.embeddings_functions as my_embs\n",
    "import utils.scanning as my_scanning\n",
    "\n",
    "import torch\n",
    "import torch.nn as nn\n",
    "import random\n",
    "import time\n",
    "from torch.utils.data import TensorDataset\n",
    "import torch.nn.functional as F\n",
    "import numpy as np\n",
    "import pandas as pd\n",
    "import matplotlib.pyplot as plt\n",
    "from torch.utils.data import DataLoader\n",
    "from transformers import AutoModel, AutoTokenizer\n",
    "from datasets import Dataset, DatasetDict\n",
    "from transformers import AutoTokenizer, AutoModelForSequenceClassification\n",
    "from tqdm import tqdm\n",
    "import seaborn as sns\n",
    "\n",
    "print(torch.__version__)"
   ]
  },
  {
   "cell_type": "code",
   "execution_count": 3,
   "id": "704d44e0",
   "metadata": {},
   "outputs": [],
   "source": [
    "# Configuration / hyperparameters\n",
    "config = {\n",
    "    \"SEED\": 42,             # Random seed\n",
    "\n",
    "    \"NUM_EPOCHS\": 300,       # Total Epochs in training\n",
    "    \"EVAL_EPOCH_FREQ\": 50,   # Evaluation frequency\n",
    "    \"BATCH_SIZE\": 64,       # Batch size\n",
    "    \"LR\": 1e-4,             # Learning rate\n",
    "    \"LR_DECAY_GAMMA\": 0.8,    # Learning rate decays\n",
    "    \"LR_DECAY_STEPS_EPOCHS\": 50, # Learning rate decay steps\n",
    "    \"L2_REG\": 0.01, # avoid to big weigths (imprve generalisation) (1 - weigths)\n",
    "\n",
    "    \"PROTEIN_MAX_LENGTH\": 1000, # Max protein length (for ESM2)\n",
    "    \"PRETRAIN_ESM_CHECKPOINT_NAME\": \"facebook/esm2_t12_35M_UR50D\",#\"facebook/esm2_t33_650M_UR50D\", #\"facebook/esm2_t12_35M_UR50D\", #\"facebook/esm2_t6_8M_UR50D\", # ESM2 model name --> if nto isntalled, autocally dowlaoded\n",
    "    \"PRETRAIN_ESM_CACHE_DIR\": \"/home/gdallagl/myworkdir/data/esm2-models\", # ESM2 model cache dir\n",
    "    \"DEVICE\": \"cuda\" if torch.cuda.is_available() else \"cpu\", # Device to use (cuda or cpu)\n",
    "\n",
    "    \"DATASET_PATH\":'/home/gdallagl/myworkdir/ESMSec/data/cell_cycle/datasets/cc_dataset_final.csv', #\"/home/gdallagl/myworkdir/ESMSec/data/cell_cycle/cell-cycle-dataset_2:3.csv\",  #\"/home/gdallagl/myworkdir/ESMSec/data/cell_cycle/only-guaranteed_cell-cycle-dataset_2:3.csv\", #\"/home/gdallagl/myworkdir/ESMSec/data/cell_cycle/cell-cycle-dataset_2:3.csv\", \n",
    "    \"PATH_TO_SAVE_MODEL\": \"/home/gdallagl/myworkdir/ESMSec/data/trained_models/cell_cycle_trained_model.pth\", # Path to save the model\n",
    "    \n",
    "    \"TYPE_HEAD\":\"LR\",# \"attention\", #\"MLP\", \"LR\"\n",
    "    \"TYPE_EMB_FOR_CLASSIFICATION\": \"cls\", #\"concat(agg_mean, agg_max)\", #\"contextualized_embs\", #\"concat(agg_mean, agg_max)\",cls\n",
    "    \"FROM_PRECOMPUTED_EMBS\": True,\n",
    "}\n",
    "config[\"PRECOMPUTED_EMBS_PATH\"] = os.path.join(\n",
    "    f\"/home/gdallagl/myworkdir/ESMSec/data/cell_cycle/precomputed_embs\",\n",
    "    f\"{os.path.basename(config['DATASET_PATH']).split('.')[0]}_embs_\"\n",
    "    f\"{config['PRETRAIN_ESM_CHECKPOINT_NAME'].replace('/', '-')}_\"\n",
    "    f\"{config['TYPE_EMB_FOR_CLASSIFICATION']}.pt\"\n",
    ")\n",
    "\n",
    "# Initializations\n",
    "random.seed(config[\"SEED\"])\n",
    "np.random.seed(config[\"SEED\"])\n",
    "torch.manual_seed(config[\"SEED\"])\n",
    "torch.backends.cudnn.benchmark = True "
   ]
  },
  {
   "cell_type": "markdown",
   "id": "5349f966",
   "metadata": {},
   "source": [
    "# Instantiate ESM model"
   ]
  },
  {
   "cell_type": "code",
   "execution_count": 4,
   "id": "8d1f2e55",
   "metadata": {},
   "outputs": [
    {
     "name": "stderr",
     "output_type": "stream",
     "text": [
      "Some weights of EsmModel were not initialized from the model checkpoint at facebook/esm2_t12_35M_UR50D and are newly initialized: ['pooler.dense.bias', 'pooler.dense.weight']\n",
      "You should probably TRAIN this model on a down-stream task to be able to use it for predictions and inference.\n"
     ]
    },
    {
     "name": "stdout",
     "output_type": "stream",
     "text": [
      "\n",
      "ESM model type <class 'transformers.models.esm.modeling_esm.EsmModel'> \n",
      "\n"
     ]
    }
   ],
   "source": [
    "# Load pre-trained ESM model\n",
    "esm_model = AutoModel.from_pretrained(config[\"PRETRAIN_ESM_CHECKPOINT_NAME\"],  cache_dir=config[\"PRETRAIN_ESM_CACHE_DIR\"]).to(config[\"DEVICE\"])\n",
    "# Checj whcih model has been moded by AutoModel.from_pretrained()\n",
    "print(\"\\nESM model type\", type(esm_model), \"\\n\")\n",
    "\n",
    "# Load relative tokenizer\n",
    "tokenizer = AutoTokenizer.from_pretrained(config[\"PRETRAIN_ESM_CHECKPOINT_NAME\"])"
   ]
  },
  {
   "cell_type": "markdown",
   "id": "8fb1b8f8",
   "metadata": {},
   "source": [
    "# Load dataset and Tokenize"
   ]
  },
  {
   "cell_type": "code",
   "execution_count": 5,
   "id": "baa76d69",
   "metadata": {},
   "outputs": [
    {
     "name": "stdout",
     "output_type": "stream",
     "text": [
      "Tokenizing...\n"
     ]
    }
   ],
   "source": [
    "data = pd.read_csv(config[\"DATASET_PATH\"])\n",
    "\n",
    "num_samples = data.shape[0]\n",
    "\n",
    "# ATTENTION:trucnat seqq to enforce max conetxt of EMS\n",
    "data[\"truncated_sequence\"] = data.sequence.apply(my_dataset.truncate_sequence)\n",
    "\n",
    "# tokenize truncated seqeunces\n",
    "    # ATTENTION: they a\n",
    "print(\"Tokenizing...\")\n",
    "encoded = tokenizer(\n",
    "    list(data.truncated_sequence),\n",
    "    padding='max_length',\n",
    "    max_length=config[\"PROTEIN_MAX_LENGTH\"],\n",
    "    truncation=True,\n",
    "    return_tensors=\"pt\"\n",
    ")\n",
    "# add to dict\n",
    "input_ids_tensor = encoded[\"input_ids\"]          # shape: (N, L)\n",
    "attention_mask_tensor = encoded[\"attention_mask\"]\n",
    "# add to df\n",
    "data[\"input_ids\"] = [tensor for tensor in encoded[\"input_ids\"]]\n",
    "data[\"attention_mask\"] = [tensor for tensor in encoded[\"attention_mask\"]]\n",
    "\n",
    "#####################\n",
    "\n",
    "# save all information needed to tothe model\n",
    "cache_data = {\n",
    "    'protein': list(data.protein),\n",
    "    'label': torch.tensor(data.label.values),\n",
    "    'set': list(data.set),\n",
    "    'sequence': list(data.sequence),\n",
    "    'truncated_sequence': list(data.truncated_sequence),\n",
    "    'input_ids': input_ids_tensor,\n",
    "    'attention_mask': attention_mask_tensor,\n",
    "    'embedding': torch.zeros((num_samples, 1), dtype=torch.float32) # FAKE\n",
    "}\n"
   ]
  },
  {
   "cell_type": "markdown",
   "id": "161f7509",
   "metadata": {},
   "source": [
    "# Add or Create embs\n",
    "\n",
    "Only if \"from_precomputed_embs\" is True"
   ]
  },
  {
   "cell_type": "code",
   "execution_count": 6,
   "id": "b40bac2b",
   "metadata": {},
   "outputs": [
    {
     "name": "stdout",
     "output_type": "stream",
     "text": [
      "Reading back from file: /home/gdallagl/myworkdir/ESMSec/data/cell_cycle/precomputed_embs/cc_dataset_final_embs_facebook-esm2_t12_35M_UR50D_cls.pt...\n"
     ]
    }
   ],
   "source": [
    "# add or use precomputed embs only if needed\n",
    "if config[\"FROM_PRECOMPUTED_EMBS\"]:\n",
    "\n",
    "    if not os.path.exists(config[\"PRECOMPUTED_EMBS_PATH\"]):\n",
    "        print(\"Embeddings file not found. Calculating embs...\")\n",
    "        \n",
    "        esm_model.eval()\n",
    "\n",
    "        # Create dataloader for batched processing\n",
    "        batch_size = config.get(\"BATCH_SIZE\", 32)\n",
    "        dataloader = my_dataset.create_dataloader(\n",
    "            cache_data,\n",
    "            batch_size=batch_size,\n",
    "            shuffle=False\n",
    "        )\n",
    "\n",
    "        embeddings_list = []\n",
    "        protein_names = []\n",
    "\n",
    "        for batch in tqdm(dataloader, desc=\"Processing protein batches\"):\n",
    "            batch_input_ids = batch[\"input_ids\"].to(config[\"DEVICE\"])\n",
    "            batch_attention_mask = batch[\"attention_mask\"].to(config[\"DEVICE\"])\n",
    "            batch_proteins = batch[\"name\"]\n",
    "\n",
    "            with torch.no_grad():\n",
    "                outputs_esm = esm_model(\n",
    "                    input_ids=batch_input_ids, \n",
    "                    attention_mask=batch_attention_mask, \n",
    "                    return_dict=True\n",
    "                )\n",
    "\n",
    "                batch_embeddings = my_models.get_embs_from_context_embs( \n",
    "                                                            context_embs_esm = outputs_esm.last_hidden_state,\n",
    "                                                            attention_mask = batch_attention_mask,\n",
    "                                                            type_embs = config[\"TYPE_EMB_FOR_CLASSIFICATION\"],\n",
    "                                                            exclude_cls=True)\n",
    "\n",
    "                # Store batch results\n",
    "                protein_names.extend(batch_proteins)\n",
    "                embeddings_list.append(batch_embeddings.detach().cpu())\n",
    "\n",
    "        print(\"Saving embeddings to fast PyTorch cache...\")\n",
    "        torch.save({\n",
    "            \"protein\": protein_names,\n",
    "            \"embedding\": [e.cpu() for e in embeddings_list]  # list of tensors\n",
    "        }, config[\"PRECOMPUTED_EMBS_PATH\"])\n",
    "\n",
    "        # # Concatenate all batch embeddings\n",
    "        # all_embeddings = torch.cat(embeddings_list, dim=0)\n",
    "        # emb_dict = {\n",
    "        #     'protein': protein_names,\n",
    "        #     'embedding': all_embeddings\n",
    "        # }\n",
    "        # torch.save(emb_dict, config[\"PRECOMPUTED_EMBS_PATH\"])\n",
    "\n",
    "    print(f\"Reading back from file: {config['PRECOMPUTED_EMBS_PATH']}...\")\n",
    "    emb_dict = torch.load(config[\"PRECOMPUTED_EMBS_PATH\"], weights_only=False)\n",
    "    cache_data[\"embedding\"] = torch.cat(emb_dict[\"embedding\"], dim=0) #emb_dict[\"embedding\"]\n",
    "\n",
    "else:\n",
    "    print(\"No precomputed embs\")"
   ]
  },
  {
   "cell_type": "code",
   "execution_count": 7,
   "id": "81ae0a51",
   "metadata": {},
   "outputs": [
    {
     "name": "stdout",
     "output_type": "stream",
     "text": [
      "480\n"
     ]
    }
   ],
   "source": [
    "# Degfine classifcatio head dimesion\n",
    "\n",
    "if config[\"FROM_PRECOMPUTED_EMBS\"]:\n",
    "    first_emb_shape = cache_data[\"embedding\"].shape  # (N, L, D)\n",
    "    if len(first_emb_shape) == 1:\n",
    "        # Aggregated embedding (e.g., [D])\n",
    "        config[\"PRECOMPUTED_EMBS_DIM\"] = int(first_emb_shape[0])\n",
    "    elif len(first_emb_shape) == 2:\n",
    "        # Aggregated per sequence (e.g., [L, D])\n",
    "        config[\"PRECOMPUTED_EMBS_DIM\"] = int(first_emb_shape[1])\n",
    "    elif len(first_emb_shape) == 3:\n",
    "        # Contextualized embeddings (N, L, D) → use D\n",
    "        config[\"PRECOMPUTED_EMBS_DIM\"] = int(first_emb_shape[2])\n",
    "else:\n",
    "    # dim embessign sins the output of esm\n",
    "    config[\"PRECOMPUTED_EMBS_DIM\"] = esm_model.embeddings.word_embeddings.embedding_dim\n",
    "    #fake embs\n",
    "    cache_data[\"embedding\"] = torch.zeros((num_samples, 1), dtype=torch.float32)\n",
    "\n",
    "print(config[\"PRECOMPUTED_EMBS_DIM\"])"
   ]
  },
  {
   "cell_type": "code",
   "execution_count": 8,
   "id": "c0c3c7bd",
   "metadata": {},
   "outputs": [
    {
     "name": "stdout",
     "output_type": "stream",
     "text": [
      "Original: 437, Truncated: 437, Tokenized (no pad): 439\n",
      "Original: 312, Truncated: 312, Tokenized (no pad): 314\n",
      "Original: 140, Truncated: 140, Tokenized (no pad): 142\n",
      "\n",
      "\n",
      "protein                  : list length 1068\n",
      "label                    : Tensor shape (1068,)\n",
      "set                      : list length 1068\n",
      "sequence                 : list length 1068\n",
      "truncated_sequence       : list length 1068\n",
      "input_ids                : Tensor shape (1068, 1000)\n",
      "attention_mask           : Tensor shape (1068, 1000)\n",
      "embedding                : Tensor shape (1068, 480)\n"
     ]
    },
    {
     "data": {
      "text/plain": [
       "<Axes: >"
      ]
     },
     "execution_count": 8,
     "metadata": {},
     "output_type": "execute_result"
    },
    {
     "data": {
      "image/png": "[encoded data removed]",
      "text/plain": [
       "<Figure size 640x480 with 1 Axes>"
      ]
     },
     "metadata": {},
     "output_type": "display_data"
    }
   ],
   "source": [
    "# Plotting\n",
    "\n",
    "for i in range(3):\n",
    "    seq = data.sequence.iloc[i]\n",
    "    trunc_seq = data.truncated_sequence.iloc[i]\n",
    "    input_ids = input_ids_tensor[i]\n",
    "    print(f\"Original: {len(seq)}, Truncated: {len(trunc_seq)}, Tokenized (no pad): {(input_ids != tokenizer.pad_token_id).sum().item()}\")\n",
    "\n",
    "print(\"\\n\")\n",
    "for key, value in cache_data.items():\n",
    "    if isinstance(value, torch.Tensor):\n",
    "        print(f\"{key:25s}: Tensor shape {tuple(value.shape)}\")\n",
    "    elif isinstance(value, pd.Series):\n",
    "        print(f\"{key:25s}: pandas Series, length {len(value)}\")\n",
    "    elif isinstance(value, (list, tuple)):\n",
    "        print(f\"{key:25s}: list length {len(value)}\")\n",
    "    else:\n",
    "        print(f\"{key:25s}: type {type(value)}\")\n",
    "\n",
    "data[\"label\"].value_counts().reset_index(drop=\"True\").plot(kind='bar')"
   ]
  },
  {
   "cell_type": "markdown",
   "id": "028e9065",
   "metadata": {},
   "source": [
    "# Create DataLoaders"
   ]
  },
  {
   "cell_type": "code",
   "execution_count": 9,
   "id": "0ab810b3",
   "metadata": {},
   "outputs": [
    {
     "name": "stdout",
     "output_type": "stream",
     "text": [
      "=== Batch Information ===\n",
      "Batch size: 64\n",
      "\n",
      "Input IDs: Tensor, shape = (64, 1000), dtype = torch.int64\n",
      "Attention mask: Tensor, shape = (64, 1000), dtype = torch.int64\n",
      "Labels: Tensor, shape = (64,), dtype = torch.int64\n",
      "First 5 labels: tensor([0, 0, 1, 0, 1])\n",
      "Names: List, length = 64, first 5 = ['Q96PV7', 'Q6NVV1', 'P46060', 'Q96MD2', 'Q14186']\n",
      "Embeddings: Tensor, shape = (64, 480), dtype = torch.float32\n"
     ]
    }
   ],
   "source": [
    "# ATTENTION: the name of the cols in the df must be speicifc\n",
    "train_indices = [i for i, s in enumerate(cache_data[\"set\"]) if s == \"train\"] # select indices\n",
    "train_cache_data = my_dataset.subset_data_dict(cache_data, train_indices) # create cache_data subset\n",
    "train_dl = my_dataset.create_dataloader(train_cache_data, config[\"BATCH_SIZE\"], shuffle=True) # create dataloader\n",
    "\n",
    "valid_indices = [i for i, s in enumerate(cache_data[\"set\"]) if s == \"val\"] \n",
    "valid_cache_data = my_dataset.subset_data_dict(cache_data, valid_indices) \n",
    "valid_dl = my_dataset.create_dataloader(valid_cache_data, config[\"BATCH_SIZE\"], shuffle=True) \n",
    "\n",
    "test_indices = [i for i, s in enumerate(cache_data[\"set\"]) if s == \"test\"] \n",
    "test_cache_data = my_dataset.subset_data_dict(cache_data, test_indices) \n",
    "test_dl = my_dataset.create_dataloader(test_cache_data, config[\"BATCH_SIZE\"], shuffle=True) \n",
    "\n",
    "\n",
    "\n",
    "# little check:\n",
    "batch = next(iter(train_dl))\n",
    "\n",
    "input_ids = batch[\"input_ids\"]\n",
    "attention_mask = batch[\"attention_mask\"]\n",
    "labels = batch[\"label\"]\n",
    "names = batch[\"name\"]\n",
    "embs = batch[\"embs\"]\n",
    "\n",
    "print(\"=== Batch Information ===\")\n",
    "print(f\"Batch size: {labels.shape[0]}\\n\")\n",
    "print(f\"Input IDs: Tensor, shape = {tuple(input_ids.shape)}, dtype = {input_ids.dtype}\")\n",
    "print(f\"Attention mask: Tensor, shape = {tuple(attention_mask.shape)}, dtype = {attention_mask.dtype}\")\n",
    "print(f\"Labels: Tensor, shape = {tuple(labels.shape)}, dtype = {labels.dtype}\")\n",
    "print(f\"First 5 labels: {labels[:5]}\")\n",
    "print(f\"Names: List, length = {len(names)}, first 5 = {names[:5]}\")\n",
    "print(f\"Embeddings: Tensor, shape = {tuple(embs.shape)}, dtype = {embs.dtype}\")\n"
   ]
  },
  {
   "cell_type": "markdown",
   "id": "0650a651",
   "metadata": {},
   "source": [
    "# Instantiate Full model"
   ]
  },
  {
   "cell_type": "code",
   "execution_count": 10,
   "id": "3f27d141",
   "metadata": {},
   "outputs": [
    {
     "name": "stdout",
     "output_type": "stream",
     "text": [
      "LogisticRegressionHead(\n",
      "  (classifier): Linear(in_features=480, out_features=2, bias=True)\n",
      ")\n",
      "\n",
      "ESM hidden dim 480 \n",
      "\n"
     ]
    }
   ],
   "source": [
    "# initialise model (ESM+ HEad)\n",
    "net = my_models.EsmDeepSec(esm_model, \n",
    "                           type_head=config[\"TYPE_HEAD\"],\n",
    "                           type_emb_for_classification=config[\"TYPE_EMB_FOR_CLASSIFICATION\"],\n",
    "                           from_precomputed_embs=config[\"FROM_PRECOMPUTED_EMBS\"],\n",
    "                           precomputed_embs_dim=config[\"PRECOMPUTED_EMBS_DIM\"]\n",
    "                           ).to(config[\"DEVICE\"])\n",
    "# hidden dim of final embeggin of each aa after trnafoerm \n",
    "print(net.class_head)\n",
    "\n",
    "# Block ESM paramters to be trained\n",
    "if net.esm_model is not None:\n",
    "    print(\"\\nESM hidden dim\", net.ESM_hidden_dim, \"\\n\")\n",
    "    for param in net.esm_model.parameters():\n",
    "        param.requires_grad = False"
   ]
  },
  {
   "cell_type": "markdown",
   "id": "5158382f",
   "metadata": {},
   "source": [
    "# Define weighted loss fucntion"
   ]
  },
  {
   "cell_type": "code",
   "execution_count": 11,
   "id": "db7b2dd3",
   "metadata": {},
   "outputs": [
    {
     "name": "stdout",
     "output_type": "stream",
     "text": [
      "Class counts (ordered by label): {0: 641, 1: 214}\n",
      "Class 0 count: 641, weight: 0.3339\n",
      "Class 1 count: 214, weight: 1.0000\n"
     ]
    }
   ],
   "source": [
    "# Get class counts (ordered by label)\n",
    "class_counts = data[data.set == \"train\"].label.value_counts().sort_index()\n",
    "print(\"Class counts (ordered by label):\", class_counts.to_dict())\n",
    "\n",
    "# Convert counts to list [count_class_0, count_class_1]\n",
    "class_counts_list = class_counts.tolist()\n",
    "\n",
    "# Total number of samples\n",
    "N = sum(class_counts_list)\n",
    "\n",
    "# Compute class weights using w_i =  N / N_i\n",
    "class_weights = torch.tensor([N / class_counts_list[0], N / class_counts_list[1]], dtype=torch.float)\n",
    "\n",
    "# scale to avoid biased towrad class 1\n",
    "#reduces bias toward class 1 while still giving minority class more importance.\n",
    "class_weights = class_weights / class_weights.max()  # max weight = 1\n",
    "\n",
    "# Move to device\n",
    "class_weights = class_weights.to(config[\"DEVICE\"])\n",
    "\n",
    "# Print for sanity check\n",
    "print(f\"Class 0 count: {class_counts_list[0]}, weight: {class_weights[0]:.4f}\")\n",
    "print(f\"Class 1 count: {class_counts_list[1]}, weight: {class_weights[1]:.4f}\")\n",
    "\n",
    "# Create loss function with class weights\n",
    "loss_fn = nn.CrossEntropyLoss(weight=class_weights)"
   ]
  },
  {
   "cell_type": "code",
   "execution_count": 12,
   "id": "abde825c",
   "metadata": {},
   "outputs": [
    {
     "name": "stdout",
     "output_type": "stream",
     "text": [
      "Class counts (ordered by label): {0: 641, 1: 214}\n",
      "Class 0 count: 641, weight: 0.2503\n",
      "Class 1 count: 214, weight: 0.7497\n",
      "Sum of weights: 1.0000\n"
     ]
    }
   ],
   "source": [
    "\n",
    "# Get class counts (ordered by label)\n",
    "class_counts = data[data.set == \"train\"].label.value_counts().sort_index()\n",
    "print(\"Class counts (ordered by label):\", class_counts.to_dict())\n",
    "\n",
    "# Convert counts to list [count_class_0, count_class_1]\n",
    "class_counts_list = class_counts.tolist()\n",
    "count_0 = class_counts_list[0]\n",
    "count_1 = class_counts_list[1]\n",
    "\n",
    "# Total number of samples\n",
    "N = sum(class_counts_list)\n",
    "\n",
    "# 1. Compute initial class weights (inverse frequency: N / N_i)\n",
    "# This gives the minority class (let's assume class 1) a higher value\n",
    "initial_weights = torch.tensor([N / count_0, N / count_1], dtype=torch.float)\n",
    "\n",
    "# 2. Normalize the initial weights so they sum to 1\n",
    "sum_of_weights = torch.sum(initial_weights)\n",
    "class_weights = initial_weights / sum_of_weights\n",
    "\n",
    "# Move to device\n",
    "class_weights = class_weights.to(config[\"DEVICE\"])\n",
    "\n",
    "# Print for sanity check\n",
    "print(f\"Class 0 count: {count_0}, weight: {class_weights[0]:.4f}\")\n",
    "print(f\"Class 1 count: {count_1}, weight: {class_weights[1]:.4f}\")\n",
    "print(f\"Sum of weights: {class_weights.sum():.4f}\") # Should be 1.0000\n",
    "\n",
    "# Create loss function with class weights\n",
    "loss_fn = nn.CrossEntropyLoss(weight=class_weights)"
   ]
  },
  {
   "cell_type": "markdown",
   "id": "1d026aad",
   "metadata": {},
   "source": [
    "# Train"
   ]
  },
  {
   "cell_type": "code",
   "execution_count": 13,
   "id": "66e2187c",
   "metadata": {},
   "outputs": [
    {
     "data": {
      "application/vnd.jupyter.widget-view+json": {
       "model_id": "dba0058dd0924ca7b5b34a7f4b90001b",
       "version_major": 2,
       "version_minor": 0
      },
      "text/plain": [
       "Training:   0%|          | 0/300 [00:00<?, ?epoch/s]"
      ]
     },
     "metadata": {},
     "output_type": "display_data"
    },
    {
     "data": {
      "application/vnd.jupyter.widget-view+json": {
       "model_id": "35fc50a8b19b4f808927eee89c72f723",
       "version_major": 2,
       "version_minor": 0
      },
      "text/plain": [
       "Epoch 1:   0%|          | 0/14 [00:00<?, ?train batch/s]"
      ]
     },
     "metadata": {},
     "output_type": "display_data"
    },
    {
     "data": {
      "application/vnd.jupyter.widget-view+json": {
       "model_id": "8852bcdf68844595b3d1aaec98a8c816",
       "version_major": 2,
       "version_minor": 0
      },
      "text/plain": [
       "Epoch 2:   0%|          | 0/14 [00:00<?, ?train batch/s]"
      ]
     },
     "metadata": {},
     "output_type": "display_data"
    },
    {
     "data": {
      "application/vnd.jupyter.widget-view+json": {
       "model_id": "57ec8a26d62a4fa9b71e80ce2072dbde",
       "version_major": 2,
       "version_minor": 0
      },
      "text/plain": [
       "Epoch 3:   0%|          | 0/14 [00:00<?, ?train batch/s]"
      ]
     },
     "metadata": {},
     "output_type": "display_data"
    },
    {
     "data": {
      "application/vnd.jupyter.widget-view+json": {
       "model_id": "b59547900eaf418d9b752e69acc12e0e",
       "version_major": 2,
       "version_minor": 0
      },
      "text/plain": [
       "Epoch 4:   0%|          | 0/14 [00:00<?, ?train batch/s]"
      ]
     },
     "metadata": {},
     "output_type": "display_data"
    },
    {
     "data": {
      "application/vnd.jupyter.widget-view+json": {
       "model_id": "eb0d05ea74fc45de866157868d30f216",
       "version_major": 2,
       "version_minor": 0
      },
      "text/plain": [
       "Epoch 5:   0%|          | 0/14 [00:00<?, ?train batch/s]"
      ]
     },
     "metadata": {},
     "output_type": "display_data"
    },
    {
     "data": {
      "application/vnd.jupyter.widget-view+json": {
       "model_id": "545c58bdca2e48c3a1dba7fc0bbdbc6a",
       "version_major": 2,
       "version_minor": 0
      },
      "text/plain": [
       "Epoch 6:   0%|          | 0/14 [00:00<?, ?train batch/s]"
      ]
     },
     "metadata": {},
     "output_type": "display_data"
    },
    {
     "data": {
      "application/vnd.jupyter.widget-view+json": {
       "model_id": "865e6715fee545709b4baae41d4ca311",
       "version_major": 2,
       "version_minor": 0
      },
      "text/plain": [
       "Epoch 7:   0%|          | 0/14 [00:00<?, ?train batch/s]"
      ]
     },
     "metadata": {},
     "output_type": "display_data"
    },
    {
     "data": {
      "application/vnd.jupyter.widget-view+json": {
       "model_id": "6a8227d21d464af28e419fd668a5e6e6",
       "version_major": 2,
       "version_minor": 0
      },
      "text/plain": [
       "Epoch 8:   0%|          | 0/14 [00:00<?, ?train batch/s]"
      ]
     },
     "metadata": {},
     "output_type": "display_data"
    },
    {
     "data": {
      "application/vnd.jupyter.widget-view+json": {
       "model_id": "94995b99c8f847a08abd5b0125cd59fc",
       "version_major": 2,
       "version_minor": 0
      },
      "text/plain": [
       "Epoch 9:   0%|          | 0/14 [00:00<?, ?train batch/s]"
      ]
     },
     "metadata": {},
     "output_type": "display_data"
    },
    {
     "data": {
      "application/vnd.jupyter.widget-view+json": {
       "model_id": "60c36d6dc3854b29963d31509328d01d",
       "version_major": 2,
       "version_minor": 0
      },
      "text/plain": [
       "Epoch 10:   0%|          | 0/14 [00:00<?, ?train batch/s]"
      ]
     },
     "metadata": {},
     "output_type": "display_data"
    },
    {
     "data": {
      "application/vnd.jupyter.widget-view+json": {
       "model_id": "33aa5d468e224cf4855ad34dfa03f566",
       "version_major": 2,
       "version_minor": 0
      },
      "text/plain": [
       "Epoch 11:   0%|          | 0/14 [00:00<?, ?train batch/s]"
      ]
     },
     "metadata": {},
     "output_type": "display_data"
    },
    {
     "data": {
      "application/vnd.jupyter.widget-view+json": {
       "model_id": "07974de4403d4a059adad643e3b4d7d0",
       "version_major": 2,
       "version_minor": 0
      },
      "text/plain": [
       "Epoch 12:   0%|          | 0/14 [00:00<?, ?train batch/s]"
      ]
     },
     "metadata": {},
     "output_type": "display_data"
    },
    {
     "data": {
      "application/vnd.jupyter.widget-view+json": {
       "model_id": "82155aef1c0c42c1935464f7eeb90cbe",
       "version_major": 2,
       "version_minor": 0
      },
      "text/plain": [
       "Epoch 13:   0%|          | 0/14 [00:00<?, ?train batch/s]"
      ]
     },
     "metadata": {},
     "output_type": "display_data"
    },
    {
     "data": {
      "application/vnd.jupyter.widget-view+json": {
       "model_id": "c89a4d42f8a646889775ff25fc0ad4b2",
       "version_major": 2,
       "version_minor": 0
      },
      "text/plain": [
       "Epoch 14:   0%|          | 0/14 [00:00<?, ?train batch/s]"
      ]
     },
     "metadata": {},
     "output_type": "display_data"
    },
    {
     "data": {
      "application/vnd.jupyter.widget-view+json": {
       "model_id": "440f334f2e0e4645a0678ea96dc0c9a2",
       "version_major": 2,
       "version_minor": 0
      },
      "text/plain": [
       "Epoch 15:   0%|          | 0/14 [00:00<?, ?train batch/s]"
      ]
     },
     "metadata": {},
     "output_type": "display_data"
    },
    {
     "data": {
      "application/vnd.jupyter.widget-view+json": {
       "model_id": "e304893a715c4bababdce3ae18e29bbc",
       "version_major": 2,
       "version_minor": 0
      },
      "text/plain": [
       "Epoch 16:   0%|          | 0/14 [00:00<?, ?train batch/s]"
      ]
     },
     "metadata": {},
     "output_type": "display_data"
    },
    {
     "data": {
      "application/vnd.jupyter.widget-view+json": {
       "model_id": "1dda28bf1f0e4d3197cb5be342fc9377",
       "version_major": 2,
       "version_minor": 0
      },
      "text/plain": [
       "Epoch 17:   0%|          | 0/14 [00:00<?, ?train batch/s]"
      ]
     },
     "metadata": {},
     "output_type": "display_data"
    },
    {
     "data": {
      "application/vnd.jupyter.widget-view+json": {
       "model_id": "56d94cd6b8264f05bcc27364eb93ac21",
       "version_major": 2,
       "version_minor": 0
      },
      "text/plain": [
       "Epoch 18:   0%|          | 0/14 [00:00<?, ?train batch/s]"
      ]
     },
     "metadata": {},
     "output_type": "display_data"
    },
    {
     "data": {
      "application/vnd.jupyter.widget-view+json": {
       "model_id": "afc97faec4314a99b73f658dfcb0b57f",
       "version_major": 2,
       "version_minor": 0
      },
      "text/plain": [
       "Epoch 19:   0%|          | 0/14 [00:00<?, ?train batch/s]"
      ]
     },
     "metadata": {},
     "output_type": "display_data"
    },
    {
     "data": {
      "application/vnd.jupyter.widget-view+json": {
       "model_id": "f91e9a1be0d8456c8261c72c332f350c",
       "version_major": 2,
       "version_minor": 0
      },
      "text/plain": [
       "Epoch 20:   0%|          | 0/14 [00:00<?, ?train batch/s]"
      ]
     },
     "metadata": {},
     "output_type": "display_data"
    },
    {
     "data": {
      "application/vnd.jupyter.widget-view+json": {
       "model_id": "a6f2a778514f4dd791cdb209f10db0df",
       "version_major": 2,
       "version_minor": 0
      },
      "text/plain": [
       "Epoch 21:   0%|          | 0/14 [00:00<?, ?train batch/s]"
      ]
     },
     "metadata": {},
     "output_type": "display_data"
    },
    {
     "data": {
      "application/vnd.jupyter.widget-view+json": {
       "model_id": "6f6e5ac4b45849689e3ccaf0f39e1766",
       "version_major": 2,
       "version_minor": 0
      },
      "text/plain": [
       "Epoch 22:   0%|          | 0/14 [00:00<?, ?train batch/s]"
      ]
     },
     "metadata": {},
     "output_type": "display_data"
    },
    {
     "data": {
      "application/vnd.jupyter.widget-view+json": {
       "model_id": "69f0c86f3b694155af1a6de9b1da6413",
       "version_major": 2,
       "version_minor": 0
      },
      "text/plain": [
       "Epoch 23:   0%|          | 0/14 [00:00<?, ?train batch/s]"
      ]
     },
     "metadata": {},
     "output_type": "display_data"
    },
    {
     "data": {
      "application/vnd.jupyter.widget-view+json": {
       "model_id": "261fba213d4b43d49b839f311a76f520",
       "version_major": 2,
       "version_minor": 0
      },
      "text/plain": [
       "Epoch 24:   0%|          | 0/14 [00:00<?, ?train batch/s]"
      ]
     },
     "metadata": {},
     "output_type": "display_data"
    },
    {
     "data": {
      "application/vnd.jupyter.widget-view+json": {
       "model_id": "9eccffcecf8140a8ad54c8098a5ad72c",
       "version_major": 2,
       "version_minor": 0
      },
      "text/plain": [
       "Epoch 25:   0%|          | 0/14 [00:00<?, ?train batch/s]"
      ]
     },
     "metadata": {},
     "output_type": "display_data"
    },
    {
     "data": {
      "application/vnd.jupyter.widget-view+json": {
       "model_id": "185fc71bb2a4409ba160e629ea9af206",
       "version_major": 2,
       "version_minor": 0
      },
      "text/plain": [
       "Epoch 26:   0%|          | 0/14 [00:00<?, ?train batch/s]"
      ]
     },
     "metadata": {},
     "output_type": "display_data"
    },
    {
     "data": {
      "application/vnd.jupyter.widget-view+json": {
       "model_id": "c74cd846f5a74a5fbbde28c7a109fc60",
       "version_major": 2,
       "version_minor": 0
      },
      "text/plain": [
       "Epoch 27:   0%|          | 0/14 [00:00<?, ?train batch/s]"
      ]
     },
     "metadata": {},
     "output_type": "display_data"
    },
    {
     "data": {
      "application/vnd.jupyter.widget-view+json": {
       "model_id": "f197e685ccfc4a438e3f50b2801d2721",
       "version_major": 2,
       "version_minor": 0
      },
      "text/plain": [
       "Epoch 28:   0%|          | 0/14 [00:00<?, ?train batch/s]"
      ]
     },
     "metadata": {},
     "output_type": "display_data"
    },
    {
     "data": {
      "application/vnd.jupyter.widget-view+json": {
       "model_id": "30bee7a21e6e47abb21e883ad4137480",
       "version_major": 2,
       "version_minor": 0
      },
      "text/plain": [
       "Epoch 29:   0%|          | 0/14 [00:00<?, ?train batch/s]"
      ]
     },
     "metadata": {},
     "output_type": "display_data"
    },
    {
     "data": {
      "application/vnd.jupyter.widget-view+json": {
       "model_id": "0a371cc5e808418dbcd40fe88399d9eb",
       "version_major": 2,
       "version_minor": 0
      },
      "text/plain": [
       "Epoch 30:   0%|          | 0/14 [00:00<?, ?train batch/s]"
      ]
     },
     "metadata": {},
     "output_type": "display_data"
    },
    {
     "data": {
      "application/vnd.jupyter.widget-view+json": {
       "model_id": "1154bfa3e3aa4a8a877eea053f03a47c",
       "version_major": 2,
       "version_minor": 0
      },
      "text/plain": [
       "Epoch 31:   0%|          | 0/14 [00:00<?, ?train batch/s]"
      ]
     },
     "metadata": {},
     "output_type": "display_data"
    },
    {
     "data": {
      "application/vnd.jupyter.widget-view+json": {
       "model_id": "85bd6c7d3d3e4184b501e70a4757ca07",
       "version_major": 2,
       "version_minor": 0
      },
      "text/plain": [
       "Epoch 32:   0%|          | 0/14 [00:00<?, ?train batch/s]"
      ]
     },
     "metadata": {},
     "output_type": "display_data"
    },
    {
     "data": {
      "application/vnd.jupyter.widget-view+json": {
       "model_id": "ddb475fadb1641e087772ef1c9c567f4",
       "version_major": 2,
       "version_minor": 0
      },
      "text/plain": [
       "Epoch 33:   0%|          | 0/14 [00:00<?, ?train batch/s]"
      ]
     },
     "metadata": {},
     "output_type": "display_data"
    },
    {
     "data": {
      "application/vnd.jupyter.widget-view+json": {
       "model_id": "f164618ffabb44a6bc79984d8e05ebfb",
       "version_major": 2,
       "version_minor": 0
      },
      "text/plain": [
       "Epoch 34:   0%|          | 0/14 [00:00<?, ?train batch/s]"
      ]
     },
     "metadata": {},
     "output_type": "display_data"
    },
    {
     "data": {
      "application/vnd.jupyter.widget-view+json": {
       "model_id": "6001995f687f448cb06b22fd8ffdc182",
       "version_major": 2,
       "version_minor": 0
      },
      "text/plain": [
       "Epoch 35:   0%|          | 0/14 [00:00<?, ?train batch/s]"
      ]
     },
     "metadata": {},
     "output_type": "display_data"
    },
    {
     "data": {
      "application/vnd.jupyter.widget-view+json": {
       "model_id": "ee56ac0de28244d4a40b483d1a573c0f",
       "version_major": 2,
       "version_minor": 0
      },
      "text/plain": [
       "Epoch 36:   0%|          | 0/14 [00:00<?, ?train batch/s]"
      ]
     },
     "metadata": {},
     "output_type": "display_data"
    },
    {
     "data": {
      "application/vnd.jupyter.widget-view+json": {
       "model_id": "ba8e9782cb084c7999241b6159a4fe30",
       "version_major": 2,
       "version_minor": 0
      },
      "text/plain": [
       "Epoch 37:   0%|          | 0/14 [00:00<?, ?train batch/s]"
      ]
     },
     "metadata": {},
     "output_type": "display_data"
    },
    {
     "data": {
      "application/vnd.jupyter.widget-view+json": {
       "model_id": "32bbd997fc8040f5a9ac02788d410c8d",
       "version_major": 2,
       "version_minor": 0
      },
      "text/plain": [
       "Epoch 38:   0%|          | 0/14 [00:00<?, ?train batch/s]"
      ]
     },
     "metadata": {},
     "output_type": "display_data"
    },
    {
     "data": {
      "application/vnd.jupyter.widget-view+json": {
       "model_id": "783e79ca29884b718bd192fdbcab6d68",
       "version_major": 2,
       "version_minor": 0
      },
      "text/plain": [
       "Epoch 39:   0%|          | 0/14 [00:00<?, ?train batch/s]"
      ]
     },
     "metadata": {},
     "output_type": "display_data"
    },
    {
     "data": {
      "application/vnd.jupyter.widget-view+json": {
       "model_id": "c7e378be2ffe4ba59dce424151924339",
       "version_major": 2,
       "version_minor": 0
      },
      "text/plain": [
       "Epoch 40:   0%|          | 0/14 [00:00<?, ?train batch/s]"
      ]
     },
     "metadata": {},
     "output_type": "display_data"
    },
    {
     "data": {
      "application/vnd.jupyter.widget-view+json": {
       "model_id": "cdd187ab1f51418db6ebfc27fc103167",
       "version_major": 2,
       "version_minor": 0
      },
      "text/plain": [
       "Epoch 41:   0%|          | 0/14 [00:00<?, ?train batch/s]"
      ]
     },
     "metadata": {},
     "output_type": "display_data"
    },
    {
     "data": {
      "application/vnd.jupyter.widget-view+json": {
       "model_id": "69c493738384450885b532edb87a859e",
       "version_major": 2,
       "version_minor": 0
      },
      "text/plain": [
       "Epoch 42:   0%|          | 0/14 [00:00<?, ?train batch/s]"
      ]
     },
     "metadata": {},
     "output_type": "display_data"
    },
    {
     "data": {
      "application/vnd.jupyter.widget-view+json": {
       "model_id": "17a6b8e89b304392a1104aeafb03f572",
       "version_major": 2,
       "version_minor": 0
      },
      "text/plain": [
       "Epoch 43:   0%|          | 0/14 [00:00<?, ?train batch/s]"
      ]
     },
     "metadata": {},
     "output_type": "display_data"
    },
    {
     "data": {
      "application/vnd.jupyter.widget-view+json": {
       "model_id": "1f25f0f0ee80466aa37eec2274dafb3d",
       "version_major": 2,
       "version_minor": 0
      },
      "text/plain": [
       "Epoch 44:   0%|          | 0/14 [00:00<?, ?train batch/s]"
      ]
     },
     "metadata": {},
     "output_type": "display_data"
    },
    {
     "data": {
      "application/vnd.jupyter.widget-view+json": {
       "model_id": "e6bf8487e0444017b06afd899b9aa01e",
       "version_major": 2,
       "version_minor": 0
      },
      "text/plain": [
       "Epoch 45:   0%|          | 0/14 [00:00<?, ?train batch/s]"
      ]
     },
     "metadata": {},
     "output_type": "display_data"
    },
    {
     "data": {
      "application/vnd.jupyter.widget-view+json": {
       "model_id": "418a84c57ad14e1eb659b23f26329eff",
       "version_major": 2,
       "version_minor": 0
      },
      "text/plain": [
       "Epoch 46:   0%|          | 0/14 [00:00<?, ?train batch/s]"
      ]
     },
     "metadata": {},
     "output_type": "display_data"
    },
    {
     "data": {
      "application/vnd.jupyter.widget-view+json": {
       "model_id": "efaf074f70d54beb8db64fb2dae2bc37",
       "version_major": 2,
       "version_minor": 0
      },
      "text/plain": [
       "Epoch 47:   0%|          | 0/14 [00:00<?, ?train batch/s]"
      ]
     },
     "metadata": {},
     "output_type": "display_data"
    },
    {
     "data": {
      "application/vnd.jupyter.widget-view+json": {
       "model_id": "beebc573deb6465e833ea4b9fef9be8a",
       "version_major": 2,
       "version_minor": 0
      },
      "text/plain": [
       "Epoch 48:   0%|          | 0/14 [00:00<?, ?train batch/s]"
      ]
     },
     "metadata": {},
     "output_type": "display_data"
    },
    {
     "data": {
      "application/vnd.jupyter.widget-view+json": {
       "model_id": "5c1eb2dac39340359d05cb767a28d61d",
       "version_major": 2,
       "version_minor": 0
      },
      "text/plain": [
       "Epoch 49:   0%|          | 0/14 [00:00<?, ?train batch/s]"
      ]
     },
     "metadata": {},
     "output_type": "display_data"
    },
    {
     "data": {
      "application/vnd.jupyter.widget-view+json": {
       "model_id": "4ecae4830f874a6c85320799a365481c",
       "version_major": 2,
       "version_minor": 0
      },
      "text/plain": [
       "Epoch 50:   0%|          | 0/14 [00:00<?, ?train batch/s]"
      ]
     },
     "metadata": {},
     "output_type": "display_data"
    },
    {
     "name": "stdout",
     "output_type": "stream",
     "text": [
      "--- Evaluation at iteration 50 ---\n"
     ]
    },
    {
     "data": {
      "application/vnd.jupyter.widget-view+json": {
       "model_id": "bd1a4fe780f549b187207f06c1732aaf",
       "version_major": 2,
       "version_minor": 0
      },
      "text/plain": [
       "Evaluation:   0%|          | 0/14 [00:00<?, ? Train batch/s]"
      ]
     },
     "metadata": {},
     "output_type": "display_data"
    },
    {
     "name": "stdout",
     "output_type": "stream",
     "text": [
      "\tTrain set: Loss: 0.6011, Acc: 74.85%, Balanced Acc: 70.31%, F1: 0.5493, MCC: 0.3813\n"
     ]
    },
    {
     "data": {
      "application/vnd.jupyter.widget-view+json": {
       "model_id": "313432cc15a14997b79987f5f1c85967",
       "version_major": 2,
       "version_minor": 0
      },
      "text/plain": [
       "Evaluation:   0%|          | 0/1 [00:00<?, ? Validation batch/s]"
      ]
     },
     "metadata": {},
     "output_type": "display_data"
    },
    {
     "name": "stdout",
     "output_type": "stream",
     "text": [
      "\tValidation set: Loss: 1.0183, Acc: 0.00%, Balanced Acc: 0.00%, F1: 0.0000, MCC: 0.0000\n"
     ]
    },
    {
     "name": "stderr",
     "output_type": "stream",
     "text": [
      "/home/gdallagl/.pyenv/versions/esm2_env/lib/python3.11/site-packages/sklearn/metrics/_classification.py:2801: UserWarning: y_pred contains classes not in y_true\n",
      "  warnings.warn(\"y_pred contains classes not in y_true\")\n"
     ]
    },
    {
     "data": {
      "application/vnd.jupyter.widget-view+json": {
       "model_id": "84213fc625b5460c9f841dd8ab36d40a",
       "version_major": 2,
       "version_minor": 0
      },
      "text/plain": [
       "Evaluation:   0%|          | 0/4 [00:00<?, ? Test batch/s]"
      ]
     },
     "metadata": {},
     "output_type": "display_data"
    },
    {
     "name": "stdout",
     "output_type": "stream",
     "text": [
      "\tTest set: Loss: 0.6120, Acc: 75.47%, Balanced Acc: 69.47%, F1: 0.5357, MCC: 0.3720\n"
     ]
    },
    {
     "data": {
      "application/vnd.jupyter.widget-view+json": {
       "model_id": "d1668b2abeed4bcdaef5b38c71abfd80",
       "version_major": 2,
       "version_minor": 0
      },
      "text/plain": [
       "Epoch 51:   0%|          | 0/14 [00:00<?, ?train batch/s]"
      ]
     },
     "metadata": {},
     "output_type": "display_data"
    },
    {
     "data": {
      "application/vnd.jupyter.widget-view+json": {
       "model_id": "a616993bc225441ba3f22a4a0c5cb232",
       "version_major": 2,
       "version_minor": 0
      },
      "text/plain": [
       "Epoch 52:   0%|          | 0/14 [00:00<?, ?train batch/s]"
      ]
     },
     "metadata": {},
     "output_type": "display_data"
    },
    {
     "data": {
      "application/vnd.jupyter.widget-view+json": {
       "model_id": "2d3b3204c5384ee18f1654e44fd217c8",
       "version_major": 2,
       "version_minor": 0
      },
      "text/plain": [
       "Epoch 53:   0%|          | 0/14 [00:00<?, ?train batch/s]"
      ]
     },
     "metadata": {},
     "output_type": "display_data"
    },
    {
     "data": {
      "application/vnd.jupyter.widget-view+json": {
       "model_id": "00c927d5d6a64102b1558d3b09c8103e",
       "version_major": 2,
       "version_minor": 0
      },
      "text/plain": [
       "Epoch 54:   0%|          | 0/14 [00:00<?, ?train batch/s]"
      ]
     },
     "metadata": {},
     "output_type": "display_data"
    },
    {
     "data": {
      "application/vnd.jupyter.widget-view+json": {
       "model_id": "a771df4df0934dd985e141f82dbbf408",
       "version_major": 2,
       "version_minor": 0
      },
      "text/plain": [
       "Epoch 55:   0%|          | 0/14 [00:00<?, ?train batch/s]"
      ]
     },
     "metadata": {},
     "output_type": "display_data"
    },
    {
     "data": {
      "application/vnd.jupyter.widget-view+json": {
       "model_id": "7942604258544ce082f66e49409bdb91",
       "version_major": 2,
       "version_minor": 0
      },
      "text/plain": [
       "Epoch 56:   0%|          | 0/14 [00:00<?, ?train batch/s]"
      ]
     },
     "metadata": {},
     "output_type": "display_data"
    },
    {
     "data": {
      "application/vnd.jupyter.widget-view+json": {
       "model_id": "ac42c51f3d194b988bac2c9d18d1e9c8",
       "version_major": 2,
       "version_minor": 0
      },
      "text/plain": [
       "Epoch 57:   0%|          | 0/14 [00:00<?, ?train batch/s]"
      ]
     },
     "metadata": {},
     "output_type": "display_data"
    },
    {
     "data": {
      "application/vnd.jupyter.widget-view+json": {
       "model_id": "8a7d858c708d45a1938c8fbe425cb702",
       "version_major": 2,
       "version_minor": 0
      },
      "text/plain": [
       "Epoch 58:   0%|          | 0/14 [00:00<?, ?train batch/s]"
      ]
     },
     "metadata": {},
     "output_type": "display_data"
    },
    {
     "data": {
      "application/vnd.jupyter.widget-view+json": {
       "model_id": "a2d0b6eac49a489986aabf43ec457ae7",
       "version_major": 2,
       "version_minor": 0
      },
      "text/plain": [
       "Epoch 59:   0%|          | 0/14 [00:00<?, ?train batch/s]"
      ]
     },
     "metadata": {},
     "output_type": "display_data"
    },
    {
     "data": {
      "application/vnd.jupyter.widget-view+json": {
       "model_id": "fa84078de6834ab68c37e6a11228a843",
       "version_major": 2,
       "version_minor": 0
      },
      "text/plain": [
       "Epoch 60:   0%|          | 0/14 [00:00<?, ?train batch/s]"
      ]
     },
     "metadata": {},
     "output_type": "display_data"
    },
    {
     "data": {
      "application/vnd.jupyter.widget-view+json": {
       "model_id": "f79a8ca32e324d1eaf2b0104399e5ece",
       "version_major": 2,
       "version_minor": 0
      },
      "text/plain": [
       "Epoch 61:   0%|          | 0/14 [00:00<?, ?train batch/s]"
      ]
     },
     "metadata": {},
     "output_type": "display_data"
    },
    {
     "data": {
      "application/vnd.jupyter.widget-view+json": {
       "model_id": "1b0d9655ef4445b2b8e74fdb520f4174",
       "version_major": 2,
       "version_minor": 0
      },
      "text/plain": [
       "Epoch 62:   0%|          | 0/14 [00:00<?, ?train batch/s]"
      ]
     },
     "metadata": {},
     "output_type": "display_data"
    },
    {
     "data": {
      "application/vnd.jupyter.widget-view+json": {
       "model_id": "0bedc07ce75049619c3656f61726ffec",
       "version_major": 2,
       "version_minor": 0
      },
      "text/plain": [
       "Epoch 63:   0%|          | 0/14 [00:00<?, ?train batch/s]"
      ]
     },
     "metadata": {},
     "output_type": "display_data"
    },
    {
     "data": {
      "application/vnd.jupyter.widget-view+json": {
       "model_id": "81c30a882174499f8c072f86cc825581",
       "version_major": 2,
       "version_minor": 0
      },
      "text/plain": [
       "Epoch 64:   0%|          | 0/14 [00:00<?, ?train batch/s]"
      ]
     },
     "metadata": {},
     "output_type": "display_data"
    },
    {
     "data": {
      "application/vnd.jupyter.widget-view+json": {
       "model_id": "0a5cafb0cb2b465183a8c09d1d4c90b0",
       "version_major": 2,
       "version_minor": 0
      },
      "text/plain": [
       "Epoch 65:   0%|          | 0/14 [00:00<?, ?train batch/s]"
      ]
     },
     "metadata": {},
     "output_type": "display_data"
    },
    {
     "data": {
      "application/vnd.jupyter.widget-view+json": {
       "model_id": "88b012515fb041338dac17a7bec7b04a",
       "version_major": 2,
       "version_minor": 0
      },
      "text/plain": [
       "Epoch 66:   0%|          | 0/14 [00:00<?, ?train batch/s]"
      ]
     },
     "metadata": {},
     "output_type": "display_data"
    },
    {
     "data": {
      "application/vnd.jupyter.widget-view+json": {
       "model_id": "c5a9f83d25fa4edb9443312cf1e8a95a",
       "version_major": 2,
       "version_minor": 0
      },
      "text/plain": [
       "Epoch 67:   0%|          | 0/14 [00:00<?, ?train batch/s]"
      ]
     },
     "metadata": {},
     "output_type": "display_data"
    },
    {
     "data": {
      "application/vnd.jupyter.widget-view+json": {
       "model_id": "70a66a2e53374ea0ae834f3e039ae515",
       "version_major": 2,
       "version_minor": 0
      },
      "text/plain": [
       "Epoch 68:   0%|          | 0/14 [00:00<?, ?train batch/s]"
      ]
     },
     "metadata": {},
     "output_type": "display_data"
    },
    {
     "data": {
      "application/vnd.jupyter.widget-view+json": {
       "model_id": "7e1237bbd1e74326afb2d041a71c8a22",
       "version_major": 2,
       "version_minor": 0
      },
      "text/plain": [
       "Epoch 69:   0%|          | 0/14 [00:00<?, ?train batch/s]"
      ]
     },
     "metadata": {},
     "output_type": "display_data"
    },
    {
     "data": {
      "application/vnd.jupyter.widget-view+json": {
       "model_id": "0f22d94ae2de466c9c075d6ed028bae5",
       "version_major": 2,
       "version_minor": 0
      },
      "text/plain": [
       "Epoch 70:   0%|          | 0/14 [00:00<?, ?train batch/s]"
      ]
     },
     "metadata": {},
     "output_type": "display_data"
    },
    {
     "data": {
      "application/vnd.jupyter.widget-view+json": {
       "model_id": "1701f25bafce43cf88b0eb2689409ded",
       "version_major": 2,
       "version_minor": 0
      },
      "text/plain": [
       "Epoch 71:   0%|          | 0/14 [00:00<?, ?train batch/s]"
      ]
     },
     "metadata": {},
     "output_type": "display_data"
    },
    {
     "data": {
      "application/vnd.jupyter.widget-view+json": {
       "model_id": "68b195cd12064c9a829518a4ef63c719",
       "version_major": 2,
       "version_minor": 0
      },
      "text/plain": [
       "Epoch 72:   0%|          | 0/14 [00:00<?, ?train batch/s]"
      ]
     },
     "metadata": {},
     "output_type": "display_data"
    },
    {
     "data": {
      "application/vnd.jupyter.widget-view+json": {
       "model_id": "56427845799f4c3d939fe2ace296ee59",
       "version_major": 2,
       "version_minor": 0
      },
      "text/plain": [
       "Epoch 73:   0%|          | 0/14 [00:00<?, ?train batch/s]"
      ]
     },
     "metadata": {},
     "output_type": "display_data"
    },
    {
     "data": {
      "application/vnd.jupyter.widget-view+json": {
       "model_id": "bf787ada63a94ce2b6e153d0f251fb7e",
       "version_major": 2,
       "version_minor": 0
      },
      "text/plain": [
       "Epoch 74:   0%|          | 0/14 [00:00<?, ?train batch/s]"
      ]
     },
     "metadata": {},
     "output_type": "display_data"
    },
    {
     "data": {
      "application/vnd.jupyter.widget-view+json": {
       "model_id": "295da65a61014397a3c59c8b679f5a73",
       "version_major": 2,
       "version_minor": 0
      },
      "text/plain": [
       "Epoch 75:   0%|          | 0/14 [00:00<?, ?train batch/s]"
      ]
     },
     "metadata": {},
     "output_type": "display_data"
    },
    {
     "data": {
      "application/vnd.jupyter.widget-view+json": {
       "model_id": "d7d6b1ba64074dddb5bd2901c769cac2",
       "version_major": 2,
       "version_minor": 0
      },
      "text/plain": [
       "Epoch 76:   0%|          | 0/14 [00:00<?, ?train batch/s]"
      ]
     },
     "metadata": {},
     "output_type": "display_data"
    },
    {
     "data": {
      "application/vnd.jupyter.widget-view+json": {
       "model_id": "dc24b18728b44381a4828e847d53e403",
       "version_major": 2,
       "version_minor": 0
      },
      "text/plain": [
       "Epoch 77:   0%|          | 0/14 [00:00<?, ?train batch/s]"
      ]
     },
     "metadata": {},
     "output_type": "display_data"
    },
    {
     "data": {
      "application/vnd.jupyter.widget-view+json": {
       "model_id": "66189714ed644572aa97b9477f3a389e",
       "version_major": 2,
       "version_minor": 0
      },
      "text/plain": [
       "Epoch 78:   0%|          | 0/14 [00:00<?, ?train batch/s]"
      ]
     },
     "metadata": {},
     "output_type": "display_data"
    },
    {
     "data": {
      "application/vnd.jupyter.widget-view+json": {
       "model_id": "936c45971082491e89b20b9dec856ee6",
       "version_major": 2,
       "version_minor": 0
      },
      "text/plain": [
       "Epoch 79:   0%|          | 0/14 [00:00<?, ?train batch/s]"
      ]
     },
     "metadata": {},
     "output_type": "display_data"
    },
    {
     "data": {
      "application/vnd.jupyter.widget-view+json": {
       "model_id": "6fb7f253580042fb8e0145e84a361e9a",
       "version_major": 2,
       "version_minor": 0
      },
      "text/plain": [
       "Epoch 80:   0%|          | 0/14 [00:00<?, ?train batch/s]"
      ]
     },
     "metadata": {},
     "output_type": "display_data"
    },
    {
     "data": {
      "application/vnd.jupyter.widget-view+json": {
       "model_id": "2079917985d9448fb5182cb272fe35d5",
       "version_major": 2,
       "version_minor": 0
      },
      "text/plain": [
       "Epoch 81:   0%|          | 0/14 [00:00<?, ?train batch/s]"
      ]
     },
     "metadata": {},
     "output_type": "display_data"
    },
    {
     "data": {
      "application/vnd.jupyter.widget-view+json": {
       "model_id": "3bff878011194a05b61712988318437b",
       "version_major": 2,
       "version_minor": 0
      },
      "text/plain": [
       "Epoch 82:   0%|          | 0/14 [00:00<?, ?train batch/s]"
      ]
     },
     "metadata": {},
     "output_type": "display_data"
    },
    {
     "data": {
      "application/vnd.jupyter.widget-view+json": {
       "model_id": "e17ad39c6aef4f11b269fcd243eeb93b",
       "version_major": 2,
       "version_minor": 0
      },
      "text/plain": [
       "Epoch 83:   0%|          | 0/14 [00:00<?, ?train batch/s]"
      ]
     },
     "metadata": {},
     "output_type": "display_data"
    },
    {
     "data": {
      "application/vnd.jupyter.widget-view+json": {
       "model_id": "643efd76357b4c73a30d9461159ff2c0",
       "version_major": 2,
       "version_minor": 0
      },
      "text/plain": [
       "Epoch 84:   0%|          | 0/14 [00:00<?, ?train batch/s]"
      ]
     },
     "metadata": {},
     "output_type": "display_data"
    },
    {
     "data": {
      "application/vnd.jupyter.widget-view+json": {
       "model_id": "10280064abe84aa8a72d5f49f7e8a48c",
       "version_major": 2,
       "version_minor": 0
      },
      "text/plain": [
       "Epoch 85:   0%|          | 0/14 [00:00<?, ?train batch/s]"
      ]
     },
     "metadata": {},
     "output_type": "display_data"
    },
    {
     "data": {
      "application/vnd.jupyter.widget-view+json": {
       "model_id": "42ffacae25af415db35f8a4c84fb4ed8",
       "version_major": 2,
       "version_minor": 0
      },
      "text/plain": [
       "Epoch 86:   0%|          | 0/14 [00:00<?, ?train batch/s]"
      ]
     },
     "metadata": {},
     "output_type": "display_data"
    },
    {
     "data": {
      "application/vnd.jupyter.widget-view+json": {
       "model_id": "080b481fe24e4ad0818d8cfe5e813fbe",
       "version_major": 2,
       "version_minor": 0
      },
      "text/plain": [
       "Epoch 87:   0%|          | 0/14 [00:00<?, ?train batch/s]"
      ]
     },
     "metadata": {},
     "output_type": "display_data"
    },
    {
     "data": {
      "application/vnd.jupyter.widget-view+json": {
       "model_id": "aca4d855df384c9a916b10dce7fa35d5",
       "version_major": 2,
       "version_minor": 0
      },
      "text/plain": [
       "Epoch 88:   0%|          | 0/14 [00:00<?, ?train batch/s]"
      ]
     },
     "metadata": {},
     "output_type": "display_data"
    },
    {
     "data": {
      "application/vnd.jupyter.widget-view+json": {
       "model_id": "b3e6e21164904fce837c7c3b39017a1a",
       "version_major": 2,
       "version_minor": 0
      },
      "text/plain": [
       "Epoch 89:   0%|          | 0/14 [00:00<?, ?train batch/s]"
      ]
     },
     "metadata": {},
     "output_type": "display_data"
    },
    {
     "data": {
      "application/vnd.jupyter.widget-view+json": {
       "model_id": "d0c8c3d3b53b4217b8889f7f8b69454b",
       "version_major": 2,
       "version_minor": 0
      },
      "text/plain": [
       "Epoch 90:   0%|          | 0/14 [00:00<?, ?train batch/s]"
      ]
     },
     "metadata": {},
     "output_type": "display_data"
    },
    {
     "data": {
      "application/vnd.jupyter.widget-view+json": {
       "model_id": "dee3584516c044ff82702e8fb1bce1a3",
       "version_major": 2,
       "version_minor": 0
      },
      "text/plain": [
       "Epoch 91:   0%|          | 0/14 [00:00<?, ?train batch/s]"
      ]
     },
     "metadata": {},
     "output_type": "display_data"
    },
    {
     "data": {
      "application/vnd.jupyter.widget-view+json": {
       "model_id": "8bac4f74eb1943638c93128656390a49",
       "version_major": 2,
       "version_minor": 0
      },
      "text/plain": [
       "Epoch 92:   0%|          | 0/14 [00:00<?, ?train batch/s]"
      ]
     },
     "metadata": {},
     "output_type": "display_data"
    },
    {
     "data": {
      "application/vnd.jupyter.widget-view+json": {
       "model_id": "1af7065ad7be4be186f3acef26c3b6de",
       "version_major": 2,
       "version_minor": 0
      },
      "text/plain": [
       "Epoch 93:   0%|          | 0/14 [00:00<?, ?train batch/s]"
      ]
     },
     "metadata": {},
     "output_type": "display_data"
    },
    {
     "data": {
      "application/vnd.jupyter.widget-view+json": {
       "model_id": "3bd68221ccb94e3e982e26b87da88a41",
       "version_major": 2,
       "version_minor": 0
      },
      "text/plain": [
       "Epoch 94:   0%|          | 0/14 [00:00<?, ?train batch/s]"
      ]
     },
     "metadata": {},
     "output_type": "display_data"
    },
    {
     "data": {
      "application/vnd.jupyter.widget-view+json": {
       "model_id": "a84a735163a645a89dcfe0cd39cec6fd",
       "version_major": 2,
       "version_minor": 0
      },
      "text/plain": [
       "Epoch 95:   0%|          | 0/14 [00:00<?, ?train batch/s]"
      ]
     },
     "metadata": {},
     "output_type": "display_data"
    },
    {
     "data": {
      "application/vnd.jupyter.widget-view+json": {
       "model_id": "8e75377afd084623879b213198b1758b",
       "version_major": 2,
       "version_minor": 0
      },
      "text/plain": [
       "Epoch 96:   0%|          | 0/14 [00:00<?, ?train batch/s]"
      ]
     },
     "metadata": {},
     "output_type": "display_data"
    },
    {
     "data": {
      "application/vnd.jupyter.widget-view+json": {
       "model_id": "d41a4675c3134f8390edb3383af830f9",
       "version_major": 2,
       "version_minor": 0
      },
      "text/plain": [
       "Epoch 97:   0%|          | 0/14 [00:00<?, ?train batch/s]"
      ]
     },
     "metadata": {},
     "output_type": "display_data"
    },
    {
     "data": {
      "application/vnd.jupyter.widget-view+json": {
       "model_id": "0a7022e7e8d94ac49dc7171f2fa030ec",
       "version_major": 2,
       "version_minor": 0
      },
      "text/plain": [
       "Epoch 98:   0%|          | 0/14 [00:00<?, ?train batch/s]"
      ]
     },
     "metadata": {},
     "output_type": "display_data"
    },
    {
     "data": {
      "application/vnd.jupyter.widget-view+json": {
       "model_id": "6ff6d31f85bb4d6285d1b82c227a17b3",
       "version_major": 2,
       "version_minor": 0
      },
      "text/plain": [
       "Epoch 99:   0%|          | 0/14 [00:00<?, ?train batch/s]"
      ]
     },
     "metadata": {},
     "output_type": "display_data"
    },
    {
     "data": {
      "application/vnd.jupyter.widget-view+json": {
       "model_id": "618de6edd0c3446c8641054eedfa1f80",
       "version_major": 2,
       "version_minor": 0
      },
      "text/plain": [
       "Epoch 100:   0%|          | 0/14 [00:00<?, ?train batch/s]"
      ]
     },
     "metadata": {},
     "output_type": "display_data"
    },
    {
     "name": "stdout",
     "output_type": "stream",
     "text": [
      "--- Evaluation at iteration 100 ---\n"
     ]
    },
    {
     "data": {
      "application/vnd.jupyter.widget-view+json": {
       "model_id": "a77502db355040eba4eb47af00881553",
       "version_major": 2,
       "version_minor": 0
      },
      "text/plain": [
       "Evaluation:   0%|          | 0/14 [00:00<?, ? Train batch/s]"
      ]
     },
     "metadata": {},
     "output_type": "display_data"
    },
    {
     "name": "stdout",
     "output_type": "stream",
     "text": [
      "\tTrain set: Loss: 0.5554, Acc: 75.32%, Balanced Acc: 72.65%, F1: 0.5772, MCC: 0.4162\n"
     ]
    },
    {
     "data": {
      "application/vnd.jupyter.widget-view+json": {
       "model_id": "7a7ef6fa8eeb4a17b9cda04ea9595d74",
       "version_major": 2,
       "version_minor": 0
      },
      "text/plain": [
       "Evaluation:   0%|          | 0/1 [00:00<?, ? Validation batch/s]"
      ]
     },
     "metadata": {},
     "output_type": "display_data"
    },
    {
     "name": "stdout",
     "output_type": "stream",
     "text": [
      "\tValidation set: Loss: 1.2905, Acc: 0.00%, Balanced Acc: 0.00%, F1: 0.0000, MCC: 0.0000\n"
     ]
    },
    {
     "name": "stderr",
     "output_type": "stream",
     "text": [
      "/home/gdallagl/.pyenv/versions/esm2_env/lib/python3.11/site-packages/sklearn/metrics/_classification.py:2801: UserWarning: y_pred contains classes not in y_true\n",
      "  warnings.warn(\"y_pred contains classes not in y_true\")\n"
     ]
    },
    {
     "data": {
      "application/vnd.jupyter.widget-view+json": {
       "model_id": "d845704bd2eb406c8425f2f039551c0e",
       "version_major": 2,
       "version_minor": 0
      },
      "text/plain": [
       "Evaluation:   0%|          | 0/4 [00:00<?, ? Test batch/s]"
      ]
     },
     "metadata": {},
     "output_type": "display_data"
    },
    {
     "name": "stdout",
     "output_type": "stream",
     "text": [
      "\tTest set: Loss: 0.5813, Acc: 74.06%, Balanced Acc: 69.83%, F1: 0.5378, MCC: 0.3671\n"
     ]
    },
    {
     "data": {
      "application/vnd.jupyter.widget-view+json": {
       "model_id": "30daef614ef048d5a39304927e635be8",
       "version_major": 2,
       "version_minor": 0
      },
      "text/plain": [
       "Epoch 101:   0%|          | 0/14 [00:00<?, ?train batch/s]"
      ]
     },
     "metadata": {},
     "output_type": "display_data"
    },
    {
     "data": {
      "application/vnd.jupyter.widget-view+json": {
       "model_id": "47312cd84ab5451488656709d90ab664",
       "version_major": 2,
       "version_minor": 0
      },
      "text/plain": [
       "Epoch 102:   0%|          | 0/14 [00:00<?, ?train batch/s]"
      ]
     },
     "metadata": {},
     "output_type": "display_data"
    },
    {
     "data": {
      "application/vnd.jupyter.widget-view+json": {
       "model_id": "e010d1c78cff4cbca7584a6dfc6cf8ff",
       "version_major": 2,
       "version_minor": 0
      },
      "text/plain": [
       "Epoch 103:   0%|          | 0/14 [00:00<?, ?train batch/s]"
      ]
     },
     "metadata": {},
     "output_type": "display_data"
    },
    {
     "data": {
      "application/vnd.jupyter.widget-view+json": {
       "model_id": "17bad46d478a44949ba1d4f57afb283a",
       "version_major": 2,
       "version_minor": 0
      },
      "text/plain": [
       "Epoch 104:   0%|          | 0/14 [00:00<?, ?train batch/s]"
      ]
     },
     "metadata": {},
     "output_type": "display_data"
    },
    {
     "data": {
      "application/vnd.jupyter.widget-view+json": {
       "model_id": "214beb475d8a4e7099c559e3aeda8567",
       "version_major": 2,
       "version_minor": 0
      },
      "text/plain": [
       "Epoch 105:   0%|          | 0/14 [00:00<?, ?train batch/s]"
      ]
     },
     "metadata": {},
     "output_type": "display_data"
    },
    {
     "data": {
      "application/vnd.jupyter.widget-view+json": {
       "model_id": "839054e3b64b4dceb7420b12043d69fe",
       "version_major": 2,
       "version_minor": 0
      },
      "text/plain": [
       "Epoch 106:   0%|          | 0/14 [00:00<?, ?train batch/s]"
      ]
     },
     "metadata": {},
     "output_type": "display_data"
    },
    {
     "data": {
      "application/vnd.jupyter.widget-view+json": {
       "model_id": "c3ed81caf0d643a894755cbaedff88b6",
       "version_major": 2,
       "version_minor": 0
      },
      "text/plain": [
       "Epoch 107:   0%|          | 0/14 [00:00<?, ?train batch/s]"
      ]
     },
     "metadata": {},
     "output_type": "display_data"
    },
    {
     "data": {
      "application/vnd.jupyter.widget-view+json": {
       "model_id": "de2ee235a88d41838b288361d12cf3bf",
       "version_major": 2,
       "version_minor": 0
      },
      "text/plain": [
       "Epoch 108:   0%|          | 0/14 [00:00<?, ?train batch/s]"
      ]
     },
     "metadata": {},
     "output_type": "display_data"
    },
    {
     "data": {
      "application/vnd.jupyter.widget-view+json": {
       "model_id": "ab4f33c490334bb6a1a5a01d0656ead6",
       "version_major": 2,
       "version_minor": 0
      },
      "text/plain": [
       "Epoch 109:   0%|          | 0/14 [00:00<?, ?train batch/s]"
      ]
     },
     "metadata": {},
     "output_type": "display_data"
    },
    {
     "data": {
      "application/vnd.jupyter.widget-view+json": {
       "model_id": "e25ada009d744717bbe666e10ac4bfd4",
       "version_major": 2,
       "version_minor": 0
      },
      "text/plain": [
       "Epoch 110:   0%|          | 0/14 [00:00<?, ?train batch/s]"
      ]
     },
     "metadata": {},
     "output_type": "display_data"
    },
    {
     "data": {
      "application/vnd.jupyter.widget-view+json": {
       "model_id": "c9ff520eef0f432596e49a520e0287a5",
       "version_major": 2,
       "version_minor": 0
      },
      "text/plain": [
       "Epoch 111:   0%|          | 0/14 [00:00<?, ?train batch/s]"
      ]
     },
     "metadata": {},
     "output_type": "display_data"
    },
    {
     "data": {
      "application/vnd.jupyter.widget-view+json": {
       "model_id": "113f27488ce84ce7985100a5c95514ea",
       "version_major": 2,
       "version_minor": 0
      },
      "text/plain": [
       "Epoch 112:   0%|          | 0/14 [00:00<?, ?train batch/s]"
      ]
     },
     "metadata": {},
     "output_type": "display_data"
    },
    {
     "data": {
      "application/vnd.jupyter.widget-view+json": {
       "model_id": "ef489c5578af41898fd5ed97d8b1c4f2",
       "version_major": 2,
       "version_minor": 0
      },
      "text/plain": [
       "Epoch 113:   0%|          | 0/14 [00:00<?, ?train batch/s]"
      ]
     },
     "metadata": {},
     "output_type": "display_data"
    },
    {
     "data": {
      "application/vnd.jupyter.widget-view+json": {
       "model_id": "dca74e50350a446eade57b69bf0d3b70",
       "version_major": 2,
       "version_minor": 0
      },
      "text/plain": [
       "Epoch 114:   0%|          | 0/14 [00:00<?, ?train batch/s]"
      ]
     },
     "metadata": {},
     "output_type": "display_data"
    },
    {
     "data": {
      "application/vnd.jupyter.widget-view+json": {
       "model_id": "ec44059f586545a5b4cf54ee06dbebc3",
       "version_major": 2,
       "version_minor": 0
      },
      "text/plain": [
       "Epoch 115:   0%|          | 0/14 [00:00<?, ?train batch/s]"
      ]
     },
     "metadata": {},
     "output_type": "display_data"
    },
    {
     "data": {
      "application/vnd.jupyter.widget-view+json": {
       "model_id": "13308075a98240ed800ff4b01192ad71",
       "version_major": 2,
       "version_minor": 0
      },
      "text/plain": [
       "Epoch 116:   0%|          | 0/14 [00:00<?, ?train batch/s]"
      ]
     },
     "metadata": {},
     "output_type": "display_data"
    },
    {
     "data": {
      "application/vnd.jupyter.widget-view+json": {
       "model_id": "0210aabcbc7d4db9bb6037e7079c0d2b",
       "version_major": 2,
       "version_minor": 0
      },
      "text/plain": [
       "Epoch 117:   0%|          | 0/14 [00:00<?, ?train batch/s]"
      ]
     },
     "metadata": {},
     "output_type": "display_data"
    },
    {
     "data": {
      "application/vnd.jupyter.widget-view+json": {
       "model_id": "bc530406be2845f79655238361e78442",
       "version_major": 2,
       "version_minor": 0
      },
      "text/plain": [
       "Epoch 118:   0%|          | 0/14 [00:00<?, ?train batch/s]"
      ]
     },
     "metadata": {},
     "output_type": "display_data"
    },
    {
     "data": {
      "application/vnd.jupyter.widget-view+json": {
       "model_id": "d1e9d13f88174116bab255f85dda02bd",
       "version_major": 2,
       "version_minor": 0
      },
      "text/plain": [
       "Epoch 119:   0%|          | 0/14 [00:00<?, ?train batch/s]"
      ]
     },
     "metadata": {},
     "output_type": "display_data"
    },
    {
     "data": {
      "application/vnd.jupyter.widget-view+json": {
       "model_id": "fd15f35752ae43cda14d38cb6dab3b65",
       "version_major": 2,
       "version_minor": 0
      },
      "text/plain": [
       "Epoch 120:   0%|          | 0/14 [00:00<?, ?train batch/s]"
      ]
     },
     "metadata": {},
     "output_type": "display_data"
    },
    {
     "data": {
      "application/vnd.jupyter.widget-view+json": {
       "model_id": "6d840bfdddd34b46b190e6b2af59df8e",
       "version_major": 2,
       "version_minor": 0
      },
      "text/plain": [
       "Epoch 121:   0%|          | 0/14 [00:00<?, ?train batch/s]"
      ]
     },
     "metadata": {},
     "output_type": "display_data"
    },
    {
     "data": {
      "application/vnd.jupyter.widget-view+json": {
       "model_id": "daa3a3b4e7894e5e925d74a46c080076",
       "version_major": 2,
       "version_minor": 0
      },
      "text/plain": [
       "Epoch 122:   0%|          | 0/14 [00:00<?, ?train batch/s]"
      ]
     },
     "metadata": {},
     "output_type": "display_data"
    },
    {
     "data": {
      "application/vnd.jupyter.widget-view+json": {
       "model_id": "5ce22c52967144628e6b4ea6084efd10",
       "version_major": 2,
       "version_minor": 0
      },
      "text/plain": [
       "Epoch 123:   0%|          | 0/14 [00:00<?, ?train batch/s]"
      ]
     },
     "metadata": {},
     "output_type": "display_data"
    },
    {
     "data": {
      "application/vnd.jupyter.widget-view+json": {
       "model_id": "514331ec8004492596c860a0edf52413",
       "version_major": 2,
       "version_minor": 0
      },
      "text/plain": [
       "Epoch 124:   0%|          | 0/14 [00:00<?, ?train batch/s]"
      ]
     },
     "metadata": {},
     "output_type": "display_data"
    },
    {
     "data": {
      "application/vnd.jupyter.widget-view+json": {
       "model_id": "c58589ce7ccb469c8a44c9c46226855a",
       "version_major": 2,
       "version_minor": 0
      },
      "text/plain": [
       "Epoch 125:   0%|          | 0/14 [00:00<?, ?train batch/s]"
      ]
     },
     "metadata": {},
     "output_type": "display_data"
    },
    {
     "data": {
      "application/vnd.jupyter.widget-view+json": {
       "model_id": "4aa09b74438548bba5b5ac6636d7e37b",
       "version_major": 2,
       "version_minor": 0
      },
      "text/plain": [
       "Epoch 126:   0%|          | 0/14 [00:00<?, ?train batch/s]"
      ]
     },
     "metadata": {},
     "output_type": "display_data"
    },
    {
     "data": {
      "application/vnd.jupyter.widget-view+json": {
       "model_id": "cb219058ec59451082c1bd3a72932908",
       "version_major": 2,
       "version_minor": 0
      },
      "text/plain": [
       "Epoch 127:   0%|          | 0/14 [00:00<?, ?train batch/s]"
      ]
     },
     "metadata": {},
     "output_type": "display_data"
    },
    {
     "data": {
      "application/vnd.jupyter.widget-view+json": {
       "model_id": "2a9519e2404849b48234f26c58187e79",
       "version_major": 2,
       "version_minor": 0
      },
      "text/plain": [
       "Epoch 128:   0%|          | 0/14 [00:00<?, ?train batch/s]"
      ]
     },
     "metadata": {},
     "output_type": "display_data"
    },
    {
     "data": {
      "application/vnd.jupyter.widget-view+json": {
       "model_id": "2c5de5e3ada54283bee41ae6bd119516",
       "version_major": 2,
       "version_minor": 0
      },
      "text/plain": [
       "Epoch 129:   0%|          | 0/14 [00:00<?, ?train batch/s]"
      ]
     },
     "metadata": {},
     "output_type": "display_data"
    },
    {
     "data": {
      "application/vnd.jupyter.widget-view+json": {
       "model_id": "3d7bafd43a8c4dcaba1f6eb754ef6846",
       "version_major": 2,
       "version_minor": 0
      },
      "text/plain": [
       "Epoch 130:   0%|          | 0/14 [00:00<?, ?train batch/s]"
      ]
     },
     "metadata": {},
     "output_type": "display_data"
    },
    {
     "data": {
      "application/vnd.jupyter.widget-view+json": {
       "model_id": "dc7644d5a87b403890cebff8c230d89d",
       "version_major": 2,
       "version_minor": 0
      },
      "text/plain": [
       "Epoch 131:   0%|          | 0/14 [00:00<?, ?train batch/s]"
      ]
     },
     "metadata": {},
     "output_type": "display_data"
    },
    {
     "data": {
      "application/vnd.jupyter.widget-view+json": {
       "model_id": "ede5a8a73baf4608850dd63b355ac1ce",
       "version_major": 2,
       "version_minor": 0
      },
      "text/plain": [
       "Epoch 132:   0%|          | 0/14 [00:00<?, ?train batch/s]"
      ]
     },
     "metadata": {},
     "output_type": "display_data"
    },
    {
     "data": {
      "application/vnd.jupyter.widget-view+json": {
       "model_id": "c62fc43d7c1049d2839967c1cb3c4fed",
       "version_major": 2,
       "version_minor": 0
      },
      "text/plain": [
       "Epoch 133:   0%|          | 0/14 [00:00<?, ?train batch/s]"
      ]
     },
     "metadata": {},
     "output_type": "display_data"
    },
    {
     "data": {
      "application/vnd.jupyter.widget-view+json": {
       "model_id": "efca691b4e2c44d2babdb732c0e67e99",
       "version_major": 2,
       "version_minor": 0
      },
      "text/plain": [
       "Epoch 134:   0%|          | 0/14 [00:00<?, ?train batch/s]"
      ]
     },
     "metadata": {},
     "output_type": "display_data"
    },
    {
     "data": {
      "application/vnd.jupyter.widget-view+json": {
       "model_id": "2503ac0202994538afff4928200d2278",
       "version_major": 2,
       "version_minor": 0
      },
      "text/plain": [
       "Epoch 135:   0%|          | 0/14 [00:00<?, ?train batch/s]"
      ]
     },
     "metadata": {},
     "output_type": "display_data"
    },
    {
     "data": {
      "application/vnd.jupyter.widget-view+json": {
       "model_id": "f82fd35a333545fc9b6addc3e8b586fb",
       "version_major": 2,
       "version_minor": 0
      },
      "text/plain": [
       "Epoch 136:   0%|          | 0/14 [00:00<?, ?train batch/s]"
      ]
     },
     "metadata": {},
     "output_type": "display_data"
    },
    {
     "data": {
      "application/vnd.jupyter.widget-view+json": {
       "model_id": "b6ac2f1d97cc406a890dae1142b9e3b0",
       "version_major": 2,
       "version_minor": 0
      },
      "text/plain": [
       "Epoch 137:   0%|          | 0/14 [00:00<?, ?train batch/s]"
      ]
     },
     "metadata": {},
     "output_type": "display_data"
    },
    {
     "data": {
      "application/vnd.jupyter.widget-view+json": {
       "model_id": "2d886c2fb0b1407d86b1a0a20f49f1f8",
       "version_major": 2,
       "version_minor": 0
      },
      "text/plain": [
       "Epoch 138:   0%|          | 0/14 [00:00<?, ?train batch/s]"
      ]
     },
     "metadata": {},
     "output_type": "display_data"
    },
    {
     "data": {
      "application/vnd.jupyter.widget-view+json": {
       "model_id": "e2334a7898b74fbfb50edb409cc05e3c",
       "version_major": 2,
       "version_minor": 0
      },
      "text/plain": [
       "Epoch 139:   0%|          | 0/14 [00:00<?, ?train batch/s]"
      ]
     },
     "metadata": {},
     "output_type": "display_data"
    },
    {
     "data": {
      "application/vnd.jupyter.widget-view+json": {
       "model_id": "fa54204e5f534876b6962c270c373ff7",
       "version_major": 2,
       "version_minor": 0
      },
      "text/plain": [
       "Epoch 140:   0%|          | 0/14 [00:00<?, ?train batch/s]"
      ]
     },
     "metadata": {},
     "output_type": "display_data"
    },
    {
     "data": {
      "application/vnd.jupyter.widget-view+json": {
       "model_id": "735e64c241654aef9853a3ccb6e476c8",
       "version_major": 2,
       "version_minor": 0
      },
      "text/plain": [
       "Epoch 141:   0%|          | 0/14 [00:00<?, ?train batch/s]"
      ]
     },
     "metadata": {},
     "output_type": "display_data"
    },
    {
     "data": {
      "application/vnd.jupyter.widget-view+json": {
       "model_id": "52c43106eefa4e72878e44f321b4ffdc",
       "version_major": 2,
       "version_minor": 0
      },
      "text/plain": [
       "Epoch 142:   0%|          | 0/14 [00:00<?, ?train batch/s]"
      ]
     },
     "metadata": {},
     "output_type": "display_data"
    },
    {
     "data": {
      "application/vnd.jupyter.widget-view+json": {
       "model_id": "78b44dd6172947188bc11088d00421ae",
       "version_major": 2,
       "version_minor": 0
      },
      "text/plain": [
       "Epoch 143:   0%|          | 0/14 [00:00<?, ?train batch/s]"
      ]
     },
     "metadata": {},
     "output_type": "display_data"
    },
    {
     "data": {
      "application/vnd.jupyter.widget-view+json": {
       "model_id": "c2c24dd3cd2e4183a1a2887b0fa5971c",
       "version_major": 2,
       "version_minor": 0
      },
      "text/plain": [
       "Epoch 144:   0%|          | 0/14 [00:00<?, ?train batch/s]"
      ]
     },
     "metadata": {},
     "output_type": "display_data"
    },
    {
     "data": {
      "application/vnd.jupyter.widget-view+json": {
       "model_id": "4341acde5016441889a721749efdbba4",
       "version_major": 2,
       "version_minor": 0
      },
      "text/plain": [
       "Epoch 145:   0%|          | 0/14 [00:00<?, ?train batch/s]"
      ]
     },
     "metadata": {},
     "output_type": "display_data"
    },
    {
     "data": {
      "application/vnd.jupyter.widget-view+json": {
       "model_id": "573d639a7daf41029c3bd57cf8df465e",
       "version_major": 2,
       "version_minor": 0
      },
      "text/plain": [
       "Epoch 146:   0%|          | 0/14 [00:00<?, ?train batch/s]"
      ]
     },
     "metadata": {},
     "output_type": "display_data"
    },
    {
     "data": {
      "application/vnd.jupyter.widget-view+json": {
       "model_id": "84997aaade6542b2b0a7487c83d3d185",
       "version_major": 2,
       "version_minor": 0
      },
      "text/plain": [
       "Epoch 147:   0%|          | 0/14 [00:00<?, ?train batch/s]"
      ]
     },
     "metadata": {},
     "output_type": "display_data"
    },
    {
     "data": {
      "application/vnd.jupyter.widget-view+json": {
       "model_id": "415956cd767a46c2a772d357bd2a44d7",
       "version_major": 2,
       "version_minor": 0
      },
      "text/plain": [
       "Epoch 148:   0%|          | 0/14 [00:00<?, ?train batch/s]"
      ]
     },
     "metadata": {},
     "output_type": "display_data"
    },
    {
     "data": {
      "application/vnd.jupyter.widget-view+json": {
       "model_id": "9b943bec98a7407983b320cb8d605d04",
       "version_major": 2,
       "version_minor": 0
      },
      "text/plain": [
       "Epoch 149:   0%|          | 0/14 [00:00<?, ?train batch/s]"
      ]
     },
     "metadata": {},
     "output_type": "display_data"
    },
    {
     "data": {
      "application/vnd.jupyter.widget-view+json": {
       "model_id": "1787edfaac1944cc86fe370d6f967616",
       "version_major": 2,
       "version_minor": 0
      },
      "text/plain": [
       "Epoch 150:   0%|          | 0/14 [00:00<?, ?train batch/s]"
      ]
     },
     "metadata": {},
     "output_type": "display_data"
    },
    {
     "name": "stdout",
     "output_type": "stream",
     "text": [
      "--- Evaluation at iteration 150 ---\n"
     ]
    },
    {
     "data": {
      "application/vnd.jupyter.widget-view+json": {
       "model_id": "20c5195194f94992a6c733036b710915",
       "version_major": 2,
       "version_minor": 0
      },
      "text/plain": [
       "Evaluation:   0%|          | 0/14 [00:00<?, ? Train batch/s]"
      ]
     },
     "metadata": {},
     "output_type": "display_data"
    },
    {
     "name": "stdout",
     "output_type": "stream",
     "text": [
      "\tTrain set: Loss: 0.5448, Acc: 74.97%, Balanced Acc: 72.72%, F1: 0.5771, MCC: 0.4151\n"
     ]
    },
    {
     "data": {
      "application/vnd.jupyter.widget-view+json": {
       "model_id": "65c865af7a024f7a80b7b0a2c9b2c699",
       "version_major": 2,
       "version_minor": 0
      },
      "text/plain": [
       "Evaluation:   0%|          | 0/1 [00:00<?, ? Validation batch/s]"
      ]
     },
     "metadata": {},
     "output_type": "display_data"
    },
    {
     "name": "stdout",
     "output_type": "stream",
     "text": [
      "\tValidation set: Loss: 1.3987, Acc: 0.00%, Balanced Acc: 0.00%, F1: 0.0000, MCC: 0.0000\n"
     ]
    },
    {
     "name": "stderr",
     "output_type": "stream",
     "text": [
      "/home/gdallagl/.pyenv/versions/esm2_env/lib/python3.11/site-packages/sklearn/metrics/_classification.py:2801: UserWarning: y_pred contains classes not in y_true\n",
      "  warnings.warn(\"y_pred contains classes not in y_true\")\n"
     ]
    },
    {
     "data": {
      "application/vnd.jupyter.widget-view+json": {
       "model_id": "e0e1e06a0eaa4ee59d2a0005dbae011b",
       "version_major": 2,
       "version_minor": 0
      },
      "text/plain": [
       "Evaluation:   0%|          | 0/4 [00:00<?, ? Test batch/s]"
      ]
     },
     "metadata": {},
     "output_type": "display_data"
    },
    {
     "name": "stdout",
     "output_type": "stream",
     "text": [
      "\tTest set: Loss: 0.5517, Acc: 75.00%, Balanced Acc: 71.11%, F1: 0.5546, MCC: 0.3906\n"
     ]
    },
    {
     "data": {
      "application/vnd.jupyter.widget-view+json": {
       "model_id": "c354501b22cf4028a1c946772351992a",
       "version_major": 2,
       "version_minor": 0
      },
      "text/plain": [
       "Epoch 151:   0%|          | 0/14 [00:00<?, ?train batch/s]"
      ]
     },
     "metadata": {},
     "output_type": "display_data"
    },
    {
     "data": {
      "application/vnd.jupyter.widget-view+json": {
       "model_id": "67aa6d7388e6445e89d5598282ac000d",
       "version_major": 2,
       "version_minor": 0
      },
      "text/plain": [
       "Epoch 152:   0%|          | 0/14 [00:00<?, ?train batch/s]"
      ]
     },
     "metadata": {},
     "output_type": "display_data"
    },
    {
     "data": {
      "application/vnd.jupyter.widget-view+json": {
       "model_id": "f09d072a65a24449a5eae24d4c13a3ff",
       "version_major": 2,
       "version_minor": 0
      },
      "text/plain": [
       "Epoch 153:   0%|          | 0/14 [00:00<?, ?train batch/s]"
      ]
     },
     "metadata": {},
     "output_type": "display_data"
    },
    {
     "data": {
      "application/vnd.jupyter.widget-view+json": {
       "model_id": "c8e2472c79164dfd99ec72ce9d4467b4",
       "version_major": 2,
       "version_minor": 0
      },
      "text/plain": [
       "Epoch 154:   0%|          | 0/14 [00:00<?, ?train batch/s]"
      ]
     },
     "metadata": {},
     "output_type": "display_data"
    },
    {
     "data": {
      "application/vnd.jupyter.widget-view+json": {
       "model_id": "b88927c5d7be4d229e8b2d00acfdc5db",
       "version_major": 2,
       "version_minor": 0
      },
      "text/plain": [
       "Epoch 155:   0%|          | 0/14 [00:00<?, ?train batch/s]"
      ]
     },
     "metadata": {},
     "output_type": "display_data"
    },
    {
     "data": {
      "application/vnd.jupyter.widget-view+json": {
       "model_id": "2cfa190d8f3246d39aba83e194a227a7",
       "version_major": 2,
       "version_minor": 0
      },
      "text/plain": [
       "Epoch 156:   0%|          | 0/14 [00:00<?, ?train batch/s]"
      ]
     },
     "metadata": {},
     "output_type": "display_data"
    },
    {
     "data": {
      "application/vnd.jupyter.widget-view+json": {
       "model_id": "555a30627bb641e39eee31609838583a",
       "version_major": 2,
       "version_minor": 0
      },
      "text/plain": [
       "Epoch 157:   0%|          | 0/14 [00:00<?, ?train batch/s]"
      ]
     },
     "metadata": {},
     "output_type": "display_data"
    },
    {
     "data": {
      "application/vnd.jupyter.widget-view+json": {
       "model_id": "cc35594fe3894a31a7c172f6a993a7f6",
       "version_major": 2,
       "version_minor": 0
      },
      "text/plain": [
       "Epoch 158:   0%|          | 0/14 [00:00<?, ?train batch/s]"
      ]
     },
     "metadata": {},
     "output_type": "display_data"
    },
    {
     "data": {
      "application/vnd.jupyter.widget-view+json": {
       "model_id": "e419e1f9eae04b8dba443aea42426442",
       "version_major": 2,
       "version_minor": 0
      },
      "text/plain": [
       "Epoch 159:   0%|          | 0/14 [00:00<?, ?train batch/s]"
      ]
     },
     "metadata": {},
     "output_type": "display_data"
    },
    {
     "data": {
      "application/vnd.jupyter.widget-view+json": {
       "model_id": "859582cf0ec346f1a467b1f751fbea12",
       "version_major": 2,
       "version_minor": 0
      },
      "text/plain": [
       "Epoch 160:   0%|          | 0/14 [00:00<?, ?train batch/s]"
      ]
     },
     "metadata": {},
     "output_type": "display_data"
    },
    {
     "data": {
      "application/vnd.jupyter.widget-view+json": {
       "model_id": "faf52c4343d44442b6c4a61076ff0e38",
       "version_major": 2,
       "version_minor": 0
      },
      "text/plain": [
       "Epoch 161:   0%|          | 0/14 [00:00<?, ?train batch/s]"
      ]
     },
     "metadata": {},
     "output_type": "display_data"
    },
    {
     "data": {
      "application/vnd.jupyter.widget-view+json": {
       "model_id": "4dec4022baa64d2393f55b57a2737fc3",
       "version_major": 2,
       "version_minor": 0
      },
      "text/plain": [
       "Epoch 162:   0%|          | 0/14 [00:00<?, ?train batch/s]"
      ]
     },
     "metadata": {},
     "output_type": "display_data"
    },
    {
     "data": {
      "application/vnd.jupyter.widget-view+json": {
       "model_id": "2ca23c0f4f8944c4b2b1a6cf946716f7",
       "version_major": 2,
       "version_minor": 0
      },
      "text/plain": [
       "Epoch 163:   0%|          | 0/14 [00:00<?, ?train batch/s]"
      ]
     },
     "metadata": {},
     "output_type": "display_data"
    },
    {
     "data": {
      "application/vnd.jupyter.widget-view+json": {
       "model_id": "4f14a6ad23614b2897751eb1b9868e25",
       "version_major": 2,
       "version_minor": 0
      },
      "text/plain": [
       "Epoch 164:   0%|          | 0/14 [00:00<?, ?train batch/s]"
      ]
     },
     "metadata": {},
     "output_type": "display_data"
    },
    {
     "data": {
      "application/vnd.jupyter.widget-view+json": {
       "model_id": "44e9dafb7d424dd6916e84ef1319f42b",
       "version_major": 2,
       "version_minor": 0
      },
      "text/plain": [
       "Epoch 165:   0%|          | 0/14 [00:00<?, ?train batch/s]"
      ]
     },
     "metadata": {},
     "output_type": "display_data"
    },
    {
     "data": {
      "application/vnd.jupyter.widget-view+json": {
       "model_id": "affd65bdbfed483b8b109f1e34e66e49",
       "version_major": 2,
       "version_minor": 0
      },
      "text/plain": [
       "Epoch 166:   0%|          | 0/14 [00:00<?, ?train batch/s]"
      ]
     },
     "metadata": {},
     "output_type": "display_data"
    },
    {
     "data": {
      "application/vnd.jupyter.widget-view+json": {
       "model_id": "f04f0a2312d34d258ca567868e549120",
       "version_major": 2,
       "version_minor": 0
      },
      "text/plain": [
       "Epoch 167:   0%|          | 0/14 [00:00<?, ?train batch/s]"
      ]
     },
     "metadata": {},
     "output_type": "display_data"
    },
    {
     "data": {
      "application/vnd.jupyter.widget-view+json": {
       "model_id": "0262a1f7a49c40ce928c34bb7e17f794",
       "version_major": 2,
       "version_minor": 0
      },
      "text/plain": [
       "Epoch 168:   0%|          | 0/14 [00:00<?, ?train batch/s]"
      ]
     },
     "metadata": {},
     "output_type": "display_data"
    },
    {
     "data": {
      "application/vnd.jupyter.widget-view+json": {
       "model_id": "dd93aab2cc7549ab886e8d76dacc295b",
       "version_major": 2,
       "version_minor": 0
      },
      "text/plain": [
       "Epoch 169:   0%|          | 0/14 [00:00<?, ?train batch/s]"
      ]
     },
     "metadata": {},
     "output_type": "display_data"
    },
    {
     "data": {
      "application/vnd.jupyter.widget-view+json": {
       "model_id": "ae9dcf3be19849a49b5acd5f6d40bfa8",
       "version_major": 2,
       "version_minor": 0
      },
      "text/plain": [
       "Epoch 170:   0%|          | 0/14 [00:00<?, ?train batch/s]"
      ]
     },
     "metadata": {},
     "output_type": "display_data"
    },
    {
     "data": {
      "application/vnd.jupyter.widget-view+json": {
       "model_id": "41689aa4dbe44206a5ed62a45474f17b",
       "version_major": 2,
       "version_minor": 0
      },
      "text/plain": [
       "Epoch 171:   0%|          | 0/14 [00:00<?, ?train batch/s]"
      ]
     },
     "metadata": {},
     "output_type": "display_data"
    },
    {
     "data": {
      "application/vnd.jupyter.widget-view+json": {
       "model_id": "c32002a4d6114d0487ccb0131833d847",
       "version_major": 2,
       "version_minor": 0
      },
      "text/plain": [
       "Epoch 172:   0%|          | 0/14 [00:00<?, ?train batch/s]"
      ]
     },
     "metadata": {},
     "output_type": "display_data"
    },
    {
     "data": {
      "application/vnd.jupyter.widget-view+json": {
       "model_id": "a7dbed5d28aa4f08a9fc194b30442e47",
       "version_major": 2,
       "version_minor": 0
      },
      "text/plain": [
       "Epoch 173:   0%|          | 0/14 [00:00<?, ?train batch/s]"
      ]
     },
     "metadata": {},
     "output_type": "display_data"
    },
    {
     "data": {
      "application/vnd.jupyter.widget-view+json": {
       "model_id": "598dc8be50f8418baaa5d5ec4edd4aba",
       "version_major": 2,
       "version_minor": 0
      },
      "text/plain": [
       "Epoch 174:   0%|          | 0/14 [00:00<?, ?train batch/s]"
      ]
     },
     "metadata": {},
     "output_type": "display_data"
    },
    {
     "data": {
      "application/vnd.jupyter.widget-view+json": {
       "model_id": "b5828a78ab3945a6a18ba59f78232879",
       "version_major": 2,
       "version_minor": 0
      },
      "text/plain": [
       "Epoch 175:   0%|          | 0/14 [00:00<?, ?train batch/s]"
      ]
     },
     "metadata": {},
     "output_type": "display_data"
    },
    {
     "data": {
      "application/vnd.jupyter.widget-view+json": {
       "model_id": "7b8b6f2748e447569bd4a9b1f9c7cc61",
       "version_major": 2,
       "version_minor": 0
      },
      "text/plain": [
       "Epoch 176:   0%|          | 0/14 [00:00<?, ?train batch/s]"
      ]
     },
     "metadata": {},
     "output_type": "display_data"
    },
    {
     "data": {
      "application/vnd.jupyter.widget-view+json": {
       "model_id": "ac242c6230b242bab6690ac182138d31",
       "version_major": 2,
       "version_minor": 0
      },
      "text/plain": [
       "Epoch 177:   0%|          | 0/14 [00:00<?, ?train batch/s]"
      ]
     },
     "metadata": {},
     "output_type": "display_data"
    },
    {
     "data": {
      "application/vnd.jupyter.widget-view+json": {
       "model_id": "149d8ff98b304caaac259eae05c30070",
       "version_major": 2,
       "version_minor": 0
      },
      "text/plain": [
       "Epoch 178:   0%|          | 0/14 [00:00<?, ?train batch/s]"
      ]
     },
     "metadata": {},
     "output_type": "display_data"
    },
    {
     "data": {
      "application/vnd.jupyter.widget-view+json": {
       "model_id": "9e074348f04e43fe957ea08e2d416f8d",
       "version_major": 2,
       "version_minor": 0
      },
      "text/plain": [
       "Epoch 179:   0%|          | 0/14 [00:00<?, ?train batch/s]"
      ]
     },
     "metadata": {},
     "output_type": "display_data"
    },
    {
     "data": {
      "application/vnd.jupyter.widget-view+json": {
       "model_id": "bd17730c994447f4b851680e5957ffca",
       "version_major": 2,
       "version_minor": 0
      },
      "text/plain": [
       "Epoch 180:   0%|          | 0/14 [00:00<?, ?train batch/s]"
      ]
     },
     "metadata": {},
     "output_type": "display_data"
    },
    {
     "data": {
      "application/vnd.jupyter.widget-view+json": {
       "model_id": "2e704587e0a5413a8303d4a9353d0f9b",
       "version_major": 2,
       "version_minor": 0
      },
      "text/plain": [
       "Epoch 181:   0%|          | 0/14 [00:00<?, ?train batch/s]"
      ]
     },
     "metadata": {},
     "output_type": "display_data"
    },
    {
     "data": {
      "application/vnd.jupyter.widget-view+json": {
       "model_id": "be155fc6aade4f9285102924a77999b7",
       "version_major": 2,
       "version_minor": 0
      },
      "text/plain": [
       "Epoch 182:   0%|          | 0/14 [00:00<?, ?train batch/s]"
      ]
     },
     "metadata": {},
     "output_type": "display_data"
    },
    {
     "data": {
      "application/vnd.jupyter.widget-view+json": {
       "model_id": "d3125859598f4d5f88356bafacbea971",
       "version_major": 2,
       "version_minor": 0
      },
      "text/plain": [
       "Epoch 183:   0%|          | 0/14 [00:00<?, ?train batch/s]"
      ]
     },
     "metadata": {},
     "output_type": "display_data"
    },
    {
     "data": {
      "application/vnd.jupyter.widget-view+json": {
       "model_id": "685ce954fbad47e5970fe18eddfa0cc6",
       "version_major": 2,
       "version_minor": 0
      },
      "text/plain": [
       "Epoch 184:   0%|          | 0/14 [00:00<?, ?train batch/s]"
      ]
     },
     "metadata": {},
     "output_type": "display_data"
    },
    {
     "data": {
      "application/vnd.jupyter.widget-view+json": {
       "model_id": "959b8bd5a8b142c39fd54fd6d2a8f9db",
       "version_major": 2,
       "version_minor": 0
      },
      "text/plain": [
       "Epoch 185:   0%|          | 0/14 [00:00<?, ?train batch/s]"
      ]
     },
     "metadata": {},
     "output_type": "display_data"
    },
    {
     "data": {
      "application/vnd.jupyter.widget-view+json": {
       "model_id": "eb6c1c8dc06e4715a46d9194af586349",
       "version_major": 2,
       "version_minor": 0
      },
      "text/plain": [
       "Epoch 186:   0%|          | 0/14 [00:00<?, ?train batch/s]"
      ]
     },
     "metadata": {},
     "output_type": "display_data"
    },
    {
     "data": {
      "application/vnd.jupyter.widget-view+json": {
       "model_id": "504f9a114efc438d8d2b39a1761bee46",
       "version_major": 2,
       "version_minor": 0
      },
      "text/plain": [
       "Epoch 187:   0%|          | 0/14 [00:00<?, ?train batch/s]"
      ]
     },
     "metadata": {},
     "output_type": "display_data"
    },
    {
     "data": {
      "application/vnd.jupyter.widget-view+json": {
       "model_id": "add9982eba11423bad9937ec12484ac7",
       "version_major": 2,
       "version_minor": 0
      },
      "text/plain": [
       "Epoch 188:   0%|          | 0/14 [00:00<?, ?train batch/s]"
      ]
     },
     "metadata": {},
     "output_type": "display_data"
    },
    {
     "data": {
      "application/vnd.jupyter.widget-view+json": {
       "model_id": "499f23913b1d47bda0386216c59bf446",
       "version_major": 2,
       "version_minor": 0
      },
      "text/plain": [
       "Epoch 189:   0%|          | 0/14 [00:00<?, ?train batch/s]"
      ]
     },
     "metadata": {},
     "output_type": "display_data"
    },
    {
     "data": {
      "application/vnd.jupyter.widget-view+json": {
       "model_id": "c084256846c844bd9115381a3bd64f91",
       "version_major": 2,
       "version_minor": 0
      },
      "text/plain": [
       "Epoch 190:   0%|          | 0/14 [00:00<?, ?train batch/s]"
      ]
     },
     "metadata": {},
     "output_type": "display_data"
    },
    {
     "data": {
      "application/vnd.jupyter.widget-view+json": {
       "model_id": "d639b4d5fc8940b589cb63f4a0c21677",
       "version_major": 2,
       "version_minor": 0
      },
      "text/plain": [
       "Epoch 191:   0%|          | 0/14 [00:00<?, ?train batch/s]"
      ]
     },
     "metadata": {},
     "output_type": "display_data"
    },
    {
     "data": {
      "application/vnd.jupyter.widget-view+json": {
       "model_id": "4bc8ca9d1f59454288c4fe70f2b06a78",
       "version_major": 2,
       "version_minor": 0
      },
      "text/plain": [
       "Epoch 192:   0%|          | 0/14 [00:00<?, ?train batch/s]"
      ]
     },
     "metadata": {},
     "output_type": "display_data"
    },
    {
     "data": {
      "application/vnd.jupyter.widget-view+json": {
       "model_id": "8599e91b19354ca79908108f1c557e3e",
       "version_major": 2,
       "version_minor": 0
      },
      "text/plain": [
       "Epoch 193:   0%|          | 0/14 [00:00<?, ?train batch/s]"
      ]
     },
     "metadata": {},
     "output_type": "display_data"
    },
    {
     "data": {
      "application/vnd.jupyter.widget-view+json": {
       "model_id": "6bc5e0d7a40f4398bd983dcf8c2ee571",
       "version_major": 2,
       "version_minor": 0
      },
      "text/plain": [
       "Epoch 194:   0%|          | 0/14 [00:00<?, ?train batch/s]"
      ]
     },
     "metadata": {},
     "output_type": "display_data"
    },
    {
     "data": {
      "application/vnd.jupyter.widget-view+json": {
       "model_id": "ae9fb3e5cda64b3ba45530ab844427b0",
       "version_major": 2,
       "version_minor": 0
      },
      "text/plain": [
       "Epoch 195:   0%|          | 0/14 [00:00<?, ?train batch/s]"
      ]
     },
     "metadata": {},
     "output_type": "display_data"
    },
    {
     "data": {
      "application/vnd.jupyter.widget-view+json": {
       "model_id": "8e9b27c91b6a4ccfa143efe112565287",
       "version_major": 2,
       "version_minor": 0
      },
      "text/plain": [
       "Epoch 196:   0%|          | 0/14 [00:00<?, ?train batch/s]"
      ]
     },
     "metadata": {},
     "output_type": "display_data"
    },
    {
     "data": {
      "application/vnd.jupyter.widget-view+json": {
       "model_id": "f71d6a7d603940ecb54671da42b1c8e5",
       "version_major": 2,
       "version_minor": 0
      },
      "text/plain": [
       "Epoch 197:   0%|          | 0/14 [00:00<?, ?train batch/s]"
      ]
     },
     "metadata": {},
     "output_type": "display_data"
    },
    {
     "data": {
      "application/vnd.jupyter.widget-view+json": {
       "model_id": "410ceb09535f4422926934579345a4f4",
       "version_major": 2,
       "version_minor": 0
      },
      "text/plain": [
       "Epoch 198:   0%|          | 0/14 [00:00<?, ?train batch/s]"
      ]
     },
     "metadata": {},
     "output_type": "display_data"
    },
    {
     "data": {
      "application/vnd.jupyter.widget-view+json": {
       "model_id": "9e526ef849244d6ab6a3b468e2bbaefa",
       "version_major": 2,
       "version_minor": 0
      },
      "text/plain": [
       "Epoch 199:   0%|          | 0/14 [00:00<?, ?train batch/s]"
      ]
     },
     "metadata": {},
     "output_type": "display_data"
    },
    {
     "data": {
      "application/vnd.jupyter.widget-view+json": {
       "model_id": "3d94240cbd6a468192cdf17c04a17a33",
       "version_major": 2,
       "version_minor": 0
      },
      "text/plain": [
       "Epoch 200:   0%|          | 0/14 [00:00<?, ?train batch/s]"
      ]
     },
     "metadata": {},
     "output_type": "display_data"
    },
    {
     "name": "stdout",
     "output_type": "stream",
     "text": [
      "--- Evaluation at iteration 200 ---\n"
     ]
    },
    {
     "data": {
      "application/vnd.jupyter.widget-view+json": {
       "model_id": "7d60036dadb6469a843ab74ec65781f6",
       "version_major": 2,
       "version_minor": 0
      },
      "text/plain": [
       "Evaluation:   0%|          | 0/14 [00:00<?, ? Train batch/s]"
      ]
     },
     "metadata": {},
     "output_type": "display_data"
    },
    {
     "name": "stdout",
     "output_type": "stream",
     "text": [
      "\tTrain set: Loss: 0.5186, Acc: 74.97%, Balanced Acc: 74.28%, F1: 0.5932, MCC: 0.4370\n"
     ]
    },
    {
     "data": {
      "application/vnd.jupyter.widget-view+json": {
       "model_id": "3bc497badbf14a1aa488da0b7d735c22",
       "version_major": 2,
       "version_minor": 0
      },
      "text/plain": [
       "Evaluation:   0%|          | 0/1 [00:00<?, ? Validation batch/s]"
      ]
     },
     "metadata": {},
     "output_type": "display_data"
    },
    {
     "name": "stdout",
     "output_type": "stream",
     "text": [
      "\tValidation set: Loss: 1.5432, Acc: 0.00%, Balanced Acc: 0.00%, F1: 0.0000, MCC: 0.0000\n"
     ]
    },
    {
     "name": "stderr",
     "output_type": "stream",
     "text": [
      "/home/gdallagl/.pyenv/versions/esm2_env/lib/python3.11/site-packages/sklearn/metrics/_classification.py:2801: UserWarning: y_pred contains classes not in y_true\n",
      "  warnings.warn(\"y_pred contains classes not in y_true\")\n"
     ]
    },
    {
     "data": {
      "application/vnd.jupyter.widget-view+json": {
       "model_id": "3cab0bd2071f4870a88109c7a0be41d0",
       "version_major": 2,
       "version_minor": 0
      },
      "text/plain": [
       "Evaluation:   0%|          | 0/4 [00:00<?, ? Test batch/s]"
      ]
     },
     "metadata": {},
     "output_type": "display_data"
    },
    {
     "name": "stdout",
     "output_type": "stream",
     "text": [
      "\tTest set: Loss: 0.5549, Acc: 74.53%, Balanced Acc: 72.74%, F1: 0.5714, MCC: 0.4105\n"
     ]
    },
    {
     "data": {
      "application/vnd.jupyter.widget-view+json": {
       "model_id": "55e4aa366dda4872815d5ce0cb61c208",
       "version_major": 2,
       "version_minor": 0
      },
      "text/plain": [
       "Epoch 201:   0%|          | 0/14 [00:00<?, ?train batch/s]"
      ]
     },
     "metadata": {},
     "output_type": "display_data"
    },
    {
     "data": {
      "application/vnd.jupyter.widget-view+json": {
       "model_id": "4867187ab68948e791f13e7a9536ba90",
       "version_major": 2,
       "version_minor": 0
      },
      "text/plain": [
       "Epoch 202:   0%|          | 0/14 [00:00<?, ?train batch/s]"
      ]
     },
     "metadata": {},
     "output_type": "display_data"
    },
    {
     "data": {
      "application/vnd.jupyter.widget-view+json": {
       "model_id": "45a1f431e7d249dcb4603d50da730c54",
       "version_major": 2,
       "version_minor": 0
      },
      "text/plain": [
       "Epoch 203:   0%|          | 0/14 [00:00<?, ?train batch/s]"
      ]
     },
     "metadata": {},
     "output_type": "display_data"
    },
    {
     "data": {
      "application/vnd.jupyter.widget-view+json": {
       "model_id": "8ca48296f7b54c739a40315bf56f47c3",
       "version_major": 2,
       "version_minor": 0
      },
      "text/plain": [
       "Epoch 204:   0%|          | 0/14 [00:00<?, ?train batch/s]"
      ]
     },
     "metadata": {},
     "output_type": "display_data"
    },
    {
     "data": {
      "application/vnd.jupyter.widget-view+json": {
       "model_id": "9e24a1218bce4eea9c68aaa6a6581cac",
       "version_major": 2,
       "version_minor": 0
      },
      "text/plain": [
       "Epoch 205:   0%|          | 0/14 [00:00<?, ?train batch/s]"
      ]
     },
     "metadata": {},
     "output_type": "display_data"
    },
    {
     "data": {
      "application/vnd.jupyter.widget-view+json": {
       "model_id": "09d1f02855144f5dbb7fe51a93861077",
       "version_major": 2,
       "version_minor": 0
      },
      "text/plain": [
       "Epoch 206:   0%|          | 0/14 [00:00<?, ?train batch/s]"
      ]
     },
     "metadata": {},
     "output_type": "display_data"
    },
    {
     "data": {
      "application/vnd.jupyter.widget-view+json": {
       "model_id": "00fdbcef9a394860a9a9fdf77cf0b234",
       "version_major": 2,
       "version_minor": 0
      },
      "text/plain": [
       "Epoch 207:   0%|          | 0/14 [00:00<?, ?train batch/s]"
      ]
     },
     "metadata": {},
     "output_type": "display_data"
    },
    {
     "data": {
      "application/vnd.jupyter.widget-view+json": {
       "model_id": "1a4b42c9fc9d49668180e737b826627f",
       "version_major": 2,
       "version_minor": 0
      },
      "text/plain": [
       "Epoch 208:   0%|          | 0/14 [00:00<?, ?train batch/s]"
      ]
     },
     "metadata": {},
     "output_type": "display_data"
    },
    {
     "data": {
      "application/vnd.jupyter.widget-view+json": {
       "model_id": "0c64e6a1f6f445f7bb23f65474bc4366",
       "version_major": 2,
       "version_minor": 0
      },
      "text/plain": [
       "Epoch 209:   0%|          | 0/14 [00:00<?, ?train batch/s]"
      ]
     },
     "metadata": {},
     "output_type": "display_data"
    },
    {
     "data": {
      "application/vnd.jupyter.widget-view+json": {
       "model_id": "231c6cad4da748c399df517aeb8675e8",
       "version_major": 2,
       "version_minor": 0
      },
      "text/plain": [
       "Epoch 210:   0%|          | 0/14 [00:00<?, ?train batch/s]"
      ]
     },
     "metadata": {},
     "output_type": "display_data"
    },
    {
     "data": {
      "application/vnd.jupyter.widget-view+json": {
       "model_id": "ecbdf974ef084533bf26080decc23dba",
       "version_major": 2,
       "version_minor": 0
      },
      "text/plain": [
       "Epoch 211:   0%|          | 0/14 [00:00<?, ?train batch/s]"
      ]
     },
     "metadata": {},
     "output_type": "display_data"
    },
    {
     "data": {
      "application/vnd.jupyter.widget-view+json": {
       "model_id": "511e2c838a7a453aa0b39433e87706eb",
       "version_major": 2,
       "version_minor": 0
      },
      "text/plain": [
       "Epoch 212:   0%|          | 0/14 [00:00<?, ?train batch/s]"
      ]
     },
     "metadata": {},
     "output_type": "display_data"
    },
    {
     "data": {
      "application/vnd.jupyter.widget-view+json": {
       "model_id": "b686d39bf84b4e0586d99df0fb4cda44",
       "version_major": 2,
       "version_minor": 0
      },
      "text/plain": [
       "Epoch 213:   0%|          | 0/14 [00:00<?, ?train batch/s]"
      ]
     },
     "metadata": {},
     "output_type": "display_data"
    },
    {
     "data": {
      "application/vnd.jupyter.widget-view+json": {
       "model_id": "442a94acff974df98deec81ccafe4da0",
       "version_major": 2,
       "version_minor": 0
      },
      "text/plain": [
       "Epoch 214:   0%|          | 0/14 [00:00<?, ?train batch/s]"
      ]
     },
     "metadata": {},
     "output_type": "display_data"
    },
    {
     "data": {
      "application/vnd.jupyter.widget-view+json": {
       "model_id": "b1a7c93c42bb4c529fb3e28e8089c215",
       "version_major": 2,
       "version_minor": 0
      },
      "text/plain": [
       "Epoch 215:   0%|          | 0/14 [00:00<?, ?train batch/s]"
      ]
     },
     "metadata": {},
     "output_type": "display_data"
    },
    {
     "data": {
      "application/vnd.jupyter.widget-view+json": {
       "model_id": "ad513dca0d494d48b326958069b3568b",
       "version_major": 2,
       "version_minor": 0
      },
      "text/plain": [
       "Epoch 216:   0%|          | 0/14 [00:00<?, ?train batch/s]"
      ]
     },
     "metadata": {},
     "output_type": "display_data"
    },
    {
     "data": {
      "application/vnd.jupyter.widget-view+json": {
       "model_id": "8c4fefac88fc4bc99fd916cd1d6ae2d3",
       "version_major": 2,
       "version_minor": 0
      },
      "text/plain": [
       "Epoch 217:   0%|          | 0/14 [00:00<?, ?train batch/s]"
      ]
     },
     "metadata": {},
     "output_type": "display_data"
    },
    {
     "data": {
      "application/vnd.jupyter.widget-view+json": {
       "model_id": "3770a59d53834b57bb75579e5e6767f9",
       "version_major": 2,
       "version_minor": 0
      },
      "text/plain": [
       "Epoch 218:   0%|          | 0/14 [00:00<?, ?train batch/s]"
      ]
     },
     "metadata": {},
     "output_type": "display_data"
    },
    {
     "data": {
      "application/vnd.jupyter.widget-view+json": {
       "model_id": "8b6c1f10eaa04b169efd680f8c14a88f",
       "version_major": 2,
       "version_minor": 0
      },
      "text/plain": [
       "Epoch 219:   0%|          | 0/14 [00:00<?, ?train batch/s]"
      ]
     },
     "metadata": {},
     "output_type": "display_data"
    },
    {
     "data": {
      "application/vnd.jupyter.widget-view+json": {
       "model_id": "cc4717e4115f49b9a041a6ae47a55ad2",
       "version_major": 2,
       "version_minor": 0
      },
      "text/plain": [
       "Epoch 220:   0%|          | 0/14 [00:00<?, ?train batch/s]"
      ]
     },
     "metadata": {},
     "output_type": "display_data"
    },
    {
     "data": {
      "application/vnd.jupyter.widget-view+json": {
       "model_id": "fca6ddc2f4f24daea74e71b3956fad8d",
       "version_major": 2,
       "version_minor": 0
      },
      "text/plain": [
       "Epoch 221:   0%|          | 0/14 [00:00<?, ?train batch/s]"
      ]
     },
     "metadata": {},
     "output_type": "display_data"
    },
    {
     "data": {
      "application/vnd.jupyter.widget-view+json": {
       "model_id": "7ed62f4bc7824a5ba21aa8bfd77189ff",
       "version_major": 2,
       "version_minor": 0
      },
      "text/plain": [
       "Epoch 222:   0%|          | 0/14 [00:00<?, ?train batch/s]"
      ]
     },
     "metadata": {},
     "output_type": "display_data"
    },
    {
     "data": {
      "application/vnd.jupyter.widget-view+json": {
       "model_id": "bea749632b1343abad3610cb18583175",
       "version_major": 2,
       "version_minor": 0
      },
      "text/plain": [
       "Epoch 223:   0%|          | 0/14 [00:00<?, ?train batch/s]"
      ]
     },
     "metadata": {},
     "output_type": "display_data"
    },
    {
     "data": {
      "application/vnd.jupyter.widget-view+json": {
       "model_id": "160729deeb624867817eb299bf419efa",
       "version_major": 2,
       "version_minor": 0
      },
      "text/plain": [
       "Epoch 224:   0%|          | 0/14 [00:00<?, ?train batch/s]"
      ]
     },
     "metadata": {},
     "output_type": "display_data"
    },
    {
     "data": {
      "application/vnd.jupyter.widget-view+json": {
       "model_id": "8e38aa7e8cd44c5687a00d789eae3f75",
       "version_major": 2,
       "version_minor": 0
      },
      "text/plain": [
       "Epoch 225:   0%|          | 0/14 [00:00<?, ?train batch/s]"
      ]
     },
     "metadata": {},
     "output_type": "display_data"
    },
    {
     "data": {
      "application/vnd.jupyter.widget-view+json": {
       "model_id": "2ca86f9fcc904743bda44357ecd40a2b",
       "version_major": 2,
       "version_minor": 0
      },
      "text/plain": [
       "Epoch 226:   0%|          | 0/14 [00:00<?, ?train batch/s]"
      ]
     },
     "metadata": {},
     "output_type": "display_data"
    },
    {
     "data": {
      "application/vnd.jupyter.widget-view+json": {
       "model_id": "96865614df284ca1b5648fe07c941a0d",
       "version_major": 2,
       "version_minor": 0
      },
      "text/plain": [
       "Epoch 227:   0%|          | 0/14 [00:00<?, ?train batch/s]"
      ]
     },
     "metadata": {},
     "output_type": "display_data"
    },
    {
     "data": {
      "application/vnd.jupyter.widget-view+json": {
       "model_id": "9cd885bf164a4f8b9ed5f6f40c434ded",
       "version_major": 2,
       "version_minor": 0
      },
      "text/plain": [
       "Epoch 228:   0%|          | 0/14 [00:00<?, ?train batch/s]"
      ]
     },
     "metadata": {},
     "output_type": "display_data"
    },
    {
     "data": {
      "application/vnd.jupyter.widget-view+json": {
       "model_id": "a6320e20106045f7ac5e8e3afe714ac0",
       "version_major": 2,
       "version_minor": 0
      },
      "text/plain": [
       "Epoch 229:   0%|          | 0/14 [00:00<?, ?train batch/s]"
      ]
     },
     "metadata": {},
     "output_type": "display_data"
    },
    {
     "data": {
      "application/vnd.jupyter.widget-view+json": {
       "model_id": "241888a50eb14692ab3307041b29ef8e",
       "version_major": 2,
       "version_minor": 0
      },
      "text/plain": [
       "Epoch 230:   0%|          | 0/14 [00:00<?, ?train batch/s]"
      ]
     },
     "metadata": {},
     "output_type": "display_data"
    },
    {
     "data": {
      "application/vnd.jupyter.widget-view+json": {
       "model_id": "f02ce0a7f6df4709982e60b3e9971c97",
       "version_major": 2,
       "version_minor": 0
      },
      "text/plain": [
       "Epoch 231:   0%|          | 0/14 [00:00<?, ?train batch/s]"
      ]
     },
     "metadata": {},
     "output_type": "display_data"
    },
    {
     "data": {
      "application/vnd.jupyter.widget-view+json": {
       "model_id": "ececcc83eb1f4631ba7885117e7cecd8",
       "version_major": 2,
       "version_minor": 0
      },
      "text/plain": [
       "Epoch 232:   0%|          | 0/14 [00:00<?, ?train batch/s]"
      ]
     },
     "metadata": {},
     "output_type": "display_data"
    },
    {
     "data": {
      "application/vnd.jupyter.widget-view+json": {
       "model_id": "4e61e8190f3d4a3591d94fc3b18d9a38",
       "version_major": 2,
       "version_minor": 0
      },
      "text/plain": [
       "Epoch 233:   0%|          | 0/14 [00:00<?, ?train batch/s]"
      ]
     },
     "metadata": {},
     "output_type": "display_data"
    },
    {
     "data": {
      "application/vnd.jupyter.widget-view+json": {
       "model_id": "09650aabf15b44a6993623241751a304",
       "version_major": 2,
       "version_minor": 0
      },
      "text/plain": [
       "Epoch 234:   0%|          | 0/14 [00:00<?, ?train batch/s]"
      ]
     },
     "metadata": {},
     "output_type": "display_data"
    },
    {
     "data": {
      "application/vnd.jupyter.widget-view+json": {
       "model_id": "dbe9f55bf93549af82a2e704ca675865",
       "version_major": 2,
       "version_minor": 0
      },
      "text/plain": [
       "Epoch 235:   0%|          | 0/14 [00:00<?, ?train batch/s]"
      ]
     },
     "metadata": {},
     "output_type": "display_data"
    },
    {
     "data": {
      "application/vnd.jupyter.widget-view+json": {
       "model_id": "46cb3ac5e11c49f1bf04a3d3dff5943f",
       "version_major": 2,
       "version_minor": 0
      },
      "text/plain": [
       "Epoch 236:   0%|          | 0/14 [00:00<?, ?train batch/s]"
      ]
     },
     "metadata": {},
     "output_type": "display_data"
    },
    {
     "data": {
      "application/vnd.jupyter.widget-view+json": {
       "model_id": "7e5e0d0f47ff45eea5f02b97bbb49f5d",
       "version_major": 2,
       "version_minor": 0
      },
      "text/plain": [
       "Epoch 237:   0%|          | 0/14 [00:00<?, ?train batch/s]"
      ]
     },
     "metadata": {},
     "output_type": "display_data"
    },
    {
     "data": {
      "application/vnd.jupyter.widget-view+json": {
       "model_id": "4108e9f1d88d4420b30e57e87bae5fc4",
       "version_major": 2,
       "version_minor": 0
      },
      "text/plain": [
       "Epoch 238:   0%|          | 0/14 [00:00<?, ?train batch/s]"
      ]
     },
     "metadata": {},
     "output_type": "display_data"
    },
    {
     "data": {
      "application/vnd.jupyter.widget-view+json": {
       "model_id": "bc0df0588df6468ebb4d927d5dfc9b56",
       "version_major": 2,
       "version_minor": 0
      },
      "text/plain": [
       "Epoch 239:   0%|          | 0/14 [00:00<?, ?train batch/s]"
      ]
     },
     "metadata": {},
     "output_type": "display_data"
    },
    {
     "data": {
      "application/vnd.jupyter.widget-view+json": {
       "model_id": "dcf07b462905420cbca769ed7d0dc466",
       "version_major": 2,
       "version_minor": 0
      },
      "text/plain": [
       "Epoch 240:   0%|          | 0/14 [00:00<?, ?train batch/s]"
      ]
     },
     "metadata": {},
     "output_type": "display_data"
    },
    {
     "data": {
      "application/vnd.jupyter.widget-view+json": {
       "model_id": "a6edee65afd74e0d887483b2616ed9bf",
       "version_major": 2,
       "version_minor": 0
      },
      "text/plain": [
       "Epoch 241:   0%|          | 0/14 [00:00<?, ?train batch/s]"
      ]
     },
     "metadata": {},
     "output_type": "display_data"
    },
    {
     "data": {
      "application/vnd.jupyter.widget-view+json": {
       "model_id": "6fa23044010d441fad53a1fb83095488",
       "version_major": 2,
       "version_minor": 0
      },
      "text/plain": [
       "Epoch 242:   0%|          | 0/14 [00:00<?, ?train batch/s]"
      ]
     },
     "metadata": {},
     "output_type": "display_data"
    },
    {
     "data": {
      "application/vnd.jupyter.widget-view+json": {
       "model_id": "f530b69685c449ecb29d23395d3c2c84",
       "version_major": 2,
       "version_minor": 0
      },
      "text/plain": [
       "Epoch 243:   0%|          | 0/14 [00:00<?, ?train batch/s]"
      ]
     },
     "metadata": {},
     "output_type": "display_data"
    },
    {
     "data": {
      "application/vnd.jupyter.widget-view+json": {
       "model_id": "3a96828e82294ac99d99a76f0a8076a6",
       "version_major": 2,
       "version_minor": 0
      },
      "text/plain": [
       "Epoch 244:   0%|          | 0/14 [00:00<?, ?train batch/s]"
      ]
     },
     "metadata": {},
     "output_type": "display_data"
    },
    {
     "data": {
      "application/vnd.jupyter.widget-view+json": {
       "model_id": "fcba8519bea64b4895894fe0f6f74285",
       "version_major": 2,
       "version_minor": 0
      },
      "text/plain": [
       "Epoch 245:   0%|          | 0/14 [00:00<?, ?train batch/s]"
      ]
     },
     "metadata": {},
     "output_type": "display_data"
    },
    {
     "data": {
      "application/vnd.jupyter.widget-view+json": {
       "model_id": "86b2ada06f0143879ddc24ec582087e9",
       "version_major": 2,
       "version_minor": 0
      },
      "text/plain": [
       "Epoch 246:   0%|          | 0/14 [00:00<?, ?train batch/s]"
      ]
     },
     "metadata": {},
     "output_type": "display_data"
    },
    {
     "data": {
      "application/vnd.jupyter.widget-view+json": {
       "model_id": "50e4fb4ccce9429d949bf22b5a7a89c1",
       "version_major": 2,
       "version_minor": 0
      },
      "text/plain": [
       "Epoch 247:   0%|          | 0/14 [00:00<?, ?train batch/s]"
      ]
     },
     "metadata": {},
     "output_type": "display_data"
    },
    {
     "data": {
      "application/vnd.jupyter.widget-view+json": {
       "model_id": "44ba2f9836bc4c8ea895b15c4b96a5c5",
       "version_major": 2,
       "version_minor": 0
      },
      "text/plain": [
       "Epoch 248:   0%|          | 0/14 [00:00<?, ?train batch/s]"
      ]
     },
     "metadata": {},
     "output_type": "display_data"
    },
    {
     "data": {
      "application/vnd.jupyter.widget-view+json": {
       "model_id": "b126bf99d2f745d39b9a28c4c02f7953",
       "version_major": 2,
       "version_minor": 0
      },
      "text/plain": [
       "Epoch 249:   0%|          | 0/14 [00:00<?, ?train batch/s]"
      ]
     },
     "metadata": {},
     "output_type": "display_data"
    },
    {
     "data": {
      "application/vnd.jupyter.widget-view+json": {
       "model_id": "03367eb67223456a884677aa2cac7069",
       "version_major": 2,
       "version_minor": 0
      },
      "text/plain": [
       "Epoch 250:   0%|          | 0/14 [00:00<?, ?train batch/s]"
      ]
     },
     "metadata": {},
     "output_type": "display_data"
    },
    {
     "name": "stdout",
     "output_type": "stream",
     "text": [
      "--- Evaluation at iteration 250 ---\n"
     ]
    },
    {
     "data": {
      "application/vnd.jupyter.widget-view+json": {
       "model_id": "5fed570dc7d04ea9b74692fd15120a9b",
       "version_major": 2,
       "version_minor": 0
      },
      "text/plain": [
       "Evaluation:   0%|          | 0/14 [00:00<?, ? Train batch/s]"
      ]
     },
     "metadata": {},
     "output_type": "display_data"
    },
    {
     "name": "stdout",
     "output_type": "stream",
     "text": [
      "\tTrain set: Loss: 0.5051, Acc: 75.79%, Balanced Acc: 75.14%, F1: 0.6042, MCC: 0.4533\n"
     ]
    },
    {
     "data": {
      "application/vnd.jupyter.widget-view+json": {
       "model_id": "befd80eb602448a79c098ae82067379a",
       "version_major": 2,
       "version_minor": 0
      },
      "text/plain": [
       "Evaluation:   0%|          | 0/1 [00:00<?, ? Validation batch/s]"
      ]
     },
     "metadata": {},
     "output_type": "display_data"
    },
    {
     "name": "stdout",
     "output_type": "stream",
     "text": [
      "\tValidation set: Loss: 1.6056, Acc: 0.00%, Balanced Acc: 0.00%, F1: 0.0000, MCC: 0.0000\n"
     ]
    },
    {
     "name": "stderr",
     "output_type": "stream",
     "text": [
      "/home/gdallagl/.pyenv/versions/esm2_env/lib/python3.11/site-packages/sklearn/metrics/_classification.py:2801: UserWarning: y_pred contains classes not in y_true\n",
      "  warnings.warn(\"y_pred contains classes not in y_true\")\n"
     ]
    },
    {
     "data": {
      "application/vnd.jupyter.widget-view+json": {
       "model_id": "c20d7f597a304b9aaf0b948bd33bd62f",
       "version_major": 2,
       "version_minor": 0
      },
      "text/plain": [
       "Evaluation:   0%|          | 0/4 [00:00<?, ? Test batch/s]"
      ]
     },
     "metadata": {},
     "output_type": "display_data"
    },
    {
     "name": "stdout",
     "output_type": "stream",
     "text": [
      "\tTest set: Loss: 0.5599, Acc: 74.53%, Balanced Acc: 72.09%, F1: 0.5645, MCC: 0.4014\n"
     ]
    },
    {
     "data": {
      "application/vnd.jupyter.widget-view+json": {
       "model_id": "c1436223a32040998a7d4041d3bf38e3",
       "version_major": 2,
       "version_minor": 0
      },
      "text/plain": [
       "Epoch 251:   0%|          | 0/14 [00:00<?, ?train batch/s]"
      ]
     },
     "metadata": {},
     "output_type": "display_data"
    },
    {
     "data": {
      "application/vnd.jupyter.widget-view+json": {
       "model_id": "38bfbf5bea234ac8be42aa00eb40d031",
       "version_major": 2,
       "version_minor": 0
      },
      "text/plain": [
       "Epoch 252:   0%|          | 0/14 [00:00<?, ?train batch/s]"
      ]
     },
     "metadata": {},
     "output_type": "display_data"
    },
    {
     "data": {
      "application/vnd.jupyter.widget-view+json": {
       "model_id": "e04e0a4029db4cc1a651a4dc021ba951",
       "version_major": 2,
       "version_minor": 0
      },
      "text/plain": [
       "Epoch 253:   0%|          | 0/14 [00:00<?, ?train batch/s]"
      ]
     },
     "metadata": {},
     "output_type": "display_data"
    },
    {
     "data": {
      "application/vnd.jupyter.widget-view+json": {
       "model_id": "194b5962b4fc486994fec6dd7fc65c4d",
       "version_major": 2,
       "version_minor": 0
      },
      "text/plain": [
       "Epoch 254:   0%|          | 0/14 [00:00<?, ?train batch/s]"
      ]
     },
     "metadata": {},
     "output_type": "display_data"
    },
    {
     "data": {
      "application/vnd.jupyter.widget-view+json": {
       "model_id": "a7b7b7c55c2147bd96cc2944c7794f4e",
       "version_major": 2,
       "version_minor": 0
      },
      "text/plain": [
       "Epoch 255:   0%|          | 0/14 [00:00<?, ?train batch/s]"
      ]
     },
     "metadata": {},
     "output_type": "display_data"
    },
    {
     "data": {
      "application/vnd.jupyter.widget-view+json": {
       "model_id": "f36046921ef04b8faddbef285b2f53ca",
       "version_major": 2,
       "version_minor": 0
      },
      "text/plain": [
       "Epoch 256:   0%|          | 0/14 [00:00<?, ?train batch/s]"
      ]
     },
     "metadata": {},
     "output_type": "display_data"
    },
    {
     "data": {
      "application/vnd.jupyter.widget-view+json": {
       "model_id": "583157f0b1c64d59abd428d5e86e8c21",
       "version_major": 2,
       "version_minor": 0
      },
      "text/plain": [
       "Epoch 257:   0%|          | 0/14 [00:00<?, ?train batch/s]"
      ]
     },
     "metadata": {},
     "output_type": "display_data"
    },
    {
     "data": {
      "application/vnd.jupyter.widget-view+json": {
       "model_id": "b04e960394ef42d2af83456a38e91165",
       "version_major": 2,
       "version_minor": 0
      },
      "text/plain": [
       "Epoch 258:   0%|          | 0/14 [00:00<?, ?train batch/s]"
      ]
     },
     "metadata": {},
     "output_type": "display_data"
    },
    {
     "data": {
      "application/vnd.jupyter.widget-view+json": {
       "model_id": "533cd8372264476ebf25122f78c1847b",
       "version_major": 2,
       "version_minor": 0
      },
      "text/plain": [
       "Epoch 259:   0%|          | 0/14 [00:00<?, ?train batch/s]"
      ]
     },
     "metadata": {},
     "output_type": "display_data"
    },
    {
     "data": {
      "application/vnd.jupyter.widget-view+json": {
       "model_id": "a1e8f89bf98048a0b342ad510c839e80",
       "version_major": 2,
       "version_minor": 0
      },
      "text/plain": [
       "Epoch 260:   0%|          | 0/14 [00:00<?, ?train batch/s]"
      ]
     },
     "metadata": {},
     "output_type": "display_data"
    },
    {
     "data": {
      "application/vnd.jupyter.widget-view+json": {
       "model_id": "1943d55f3295416dae7fc933ccdf9671",
       "version_major": 2,
       "version_minor": 0
      },
      "text/plain": [
       "Epoch 261:   0%|          | 0/14 [00:00<?, ?train batch/s]"
      ]
     },
     "metadata": {},
     "output_type": "display_data"
    },
    {
     "data": {
      "application/vnd.jupyter.widget-view+json": {
       "model_id": "7f424737d32c457fabb18e20becc25f9",
       "version_major": 2,
       "version_minor": 0
      },
      "text/plain": [
       "Epoch 262:   0%|          | 0/14 [00:00<?, ?train batch/s]"
      ]
     },
     "metadata": {},
     "output_type": "display_data"
    },
    {
     "data": {
      "application/vnd.jupyter.widget-view+json": {
       "model_id": "9ca0ad51222844bc9270fb011c21d942",
       "version_major": 2,
       "version_minor": 0
      },
      "text/plain": [
       "Epoch 263:   0%|          | 0/14 [00:00<?, ?train batch/s]"
      ]
     },
     "metadata": {},
     "output_type": "display_data"
    },
    {
     "data": {
      "application/vnd.jupyter.widget-view+json": {
       "model_id": "9e9e9f5810ed42a1a9acfcc6d7d66c63",
       "version_major": 2,
       "version_minor": 0
      },
      "text/plain": [
       "Epoch 264:   0%|          | 0/14 [00:00<?, ?train batch/s]"
      ]
     },
     "metadata": {},
     "output_type": "display_data"
    },
    {
     "data": {
      "application/vnd.jupyter.widget-view+json": {
       "model_id": "e475791ca4fc491d937a48e43f8b8a9f",
       "version_major": 2,
       "version_minor": 0
      },
      "text/plain": [
       "Epoch 265:   0%|          | 0/14 [00:00<?, ?train batch/s]"
      ]
     },
     "metadata": {},
     "output_type": "display_data"
    },
    {
     "data": {
      "application/vnd.jupyter.widget-view+json": {
       "model_id": "61bcfd34405a434f973c215a4a258b52",
       "version_major": 2,
       "version_minor": 0
      },
      "text/plain": [
       "Epoch 266:   0%|          | 0/14 [00:00<?, ?train batch/s]"
      ]
     },
     "metadata": {},
     "output_type": "display_data"
    },
    {
     "data": {
      "application/vnd.jupyter.widget-view+json": {
       "model_id": "8661f7b06c724f5ab7a1903ac31170e2",
       "version_major": 2,
       "version_minor": 0
      },
      "text/plain": [
       "Epoch 267:   0%|          | 0/14 [00:00<?, ?train batch/s]"
      ]
     },
     "metadata": {},
     "output_type": "display_data"
    },
    {
     "data": {
      "application/vnd.jupyter.widget-view+json": {
       "model_id": "4fa784e8ab304666a0ed74125bcba1bc",
       "version_major": 2,
       "version_minor": 0
      },
      "text/plain": [
       "Epoch 268:   0%|          | 0/14 [00:00<?, ?train batch/s]"
      ]
     },
     "metadata": {},
     "output_type": "display_data"
    },
    {
     "data": {
      "application/vnd.jupyter.widget-view+json": {
       "model_id": "d8f4d054561b439aa1f366749e0d9e98",
       "version_major": 2,
       "version_minor": 0
      },
      "text/plain": [
       "Epoch 269:   0%|          | 0/14 [00:00<?, ?train batch/s]"
      ]
     },
     "metadata": {},
     "output_type": "display_data"
    },
    {
     "data": {
      "application/vnd.jupyter.widget-view+json": {
       "model_id": "6ccaa9a440ca46cf93274b1f73bccfc6",
       "version_major": 2,
       "version_minor": 0
      },
      "text/plain": [
       "Epoch 270:   0%|          | 0/14 [00:00<?, ?train batch/s]"
      ]
     },
     "metadata": {},
     "output_type": "display_data"
    },
    {
     "data": {
      "application/vnd.jupyter.widget-view+json": {
       "model_id": "4102db6e53524ccdb2c1b668444537de",
       "version_major": 2,
       "version_minor": 0
      },
      "text/plain": [
       "Epoch 271:   0%|          | 0/14 [00:00<?, ?train batch/s]"
      ]
     },
     "metadata": {},
     "output_type": "display_data"
    },
    {
     "data": {
      "application/vnd.jupyter.widget-view+json": {
       "model_id": "17842f45aedc463b95266f02afc4777c",
       "version_major": 2,
       "version_minor": 0
      },
      "text/plain": [
       "Epoch 272:   0%|          | 0/14 [00:00<?, ?train batch/s]"
      ]
     },
     "metadata": {},
     "output_type": "display_data"
    },
    {
     "data": {
      "application/vnd.jupyter.widget-view+json": {
       "model_id": "61768ebb48bf46d39e9e1459e9b2c0e4",
       "version_major": 2,
       "version_minor": 0
      },
      "text/plain": [
       "Epoch 273:   0%|          | 0/14 [00:00<?, ?train batch/s]"
      ]
     },
     "metadata": {},
     "output_type": "display_data"
    },
    {
     "data": {
      "application/vnd.jupyter.widget-view+json": {
       "model_id": "eb054e95ddfa4dec9096eb27440425c2",
       "version_major": 2,
       "version_minor": 0
      },
      "text/plain": [
       "Epoch 274:   0%|          | 0/14 [00:00<?, ?train batch/s]"
      ]
     },
     "metadata": {},
     "output_type": "display_data"
    },
    {
     "data": {
      "application/vnd.jupyter.widget-view+json": {
       "model_id": "db86747346a24dab85f1d4a59e811e7d",
       "version_major": 2,
       "version_minor": 0
      },
      "text/plain": [
       "Epoch 275:   0%|          | 0/14 [00:00<?, ?train batch/s]"
      ]
     },
     "metadata": {},
     "output_type": "display_data"
    },
    {
     "data": {
      "application/vnd.jupyter.widget-view+json": {
       "model_id": "427731a1b1914316a1d0761e6149c114",
       "version_major": 2,
       "version_minor": 0
      },
      "text/plain": [
       "Epoch 276:   0%|          | 0/14 [00:00<?, ?train batch/s]"
      ]
     },
     "metadata": {},
     "output_type": "display_data"
    },
    {
     "data": {
      "application/vnd.jupyter.widget-view+json": {
       "model_id": "30a03e6f62ba46c699f5a2984f495970",
       "version_major": 2,
       "version_minor": 0
      },
      "text/plain": [
       "Epoch 277:   0%|          | 0/14 [00:00<?, ?train batch/s]"
      ]
     },
     "metadata": {},
     "output_type": "display_data"
    },
    {
     "data": {
      "application/vnd.jupyter.widget-view+json": {
       "model_id": "5049e1ac2f024ce4951932069cc6ee9a",
       "version_major": 2,
       "version_minor": 0
      },
      "text/plain": [
       "Epoch 278:   0%|          | 0/14 [00:00<?, ?train batch/s]"
      ]
     },
     "metadata": {},
     "output_type": "display_data"
    },
    {
     "data": {
      "application/vnd.jupyter.widget-view+json": {
       "model_id": "cc4165573a024f7992abe7b28536f67d",
       "version_major": 2,
       "version_minor": 0
      },
      "text/plain": [
       "Epoch 279:   0%|          | 0/14 [00:00<?, ?train batch/s]"
      ]
     },
     "metadata": {},
     "output_type": "display_data"
    },
    {
     "data": {
      "application/vnd.jupyter.widget-view+json": {
       "model_id": "170e0b790d1f469c976dbacf8f737604",
       "version_major": 2,
       "version_minor": 0
      },
      "text/plain": [
       "Epoch 280:   0%|          | 0/14 [00:00<?, ?train batch/s]"
      ]
     },
     "metadata": {},
     "output_type": "display_data"
    },
    {
     "data": {
      "application/vnd.jupyter.widget-view+json": {
       "model_id": "6400ee63239e41eba07fc67e5b0c92f1",
       "version_major": 2,
       "version_minor": 0
      },
      "text/plain": [
       "Epoch 281:   0%|          | 0/14 [00:00<?, ?train batch/s]"
      ]
     },
     "metadata": {},
     "output_type": "display_data"
    },
    {
     "data": {
      "application/vnd.jupyter.widget-view+json": {
       "model_id": "54f8d8e6949641e68e61704b5ee26aa8",
       "version_major": 2,
       "version_minor": 0
      },
      "text/plain": [
       "Epoch 282:   0%|          | 0/14 [00:00<?, ?train batch/s]"
      ]
     },
     "metadata": {},
     "output_type": "display_data"
    },
    {
     "data": {
      "application/vnd.jupyter.widget-view+json": {
       "model_id": "906f039182124ae09300ff22de06eb47",
       "version_major": 2,
       "version_minor": 0
      },
      "text/plain": [
       "Epoch 283:   0%|          | 0/14 [00:00<?, ?train batch/s]"
      ]
     },
     "metadata": {},
     "output_type": "display_data"
    },
    {
     "data": {
      "application/vnd.jupyter.widget-view+json": {
       "model_id": "97288be279f64c958428c7caa38a9e5f",
       "version_major": 2,
       "version_minor": 0
      },
      "text/plain": [
       "Epoch 284:   0%|          | 0/14 [00:00<?, ?train batch/s]"
      ]
     },
     "metadata": {},
     "output_type": "display_data"
    },
    {
     "data": {
      "application/vnd.jupyter.widget-view+json": {
       "model_id": "7e6f8fa403e24f40bf99e811404a4b04",
       "version_major": 2,
       "version_minor": 0
      },
      "text/plain": [
       "Epoch 285:   0%|          | 0/14 [00:00<?, ?train batch/s]"
      ]
     },
     "metadata": {},
     "output_type": "display_data"
    },
    {
     "data": {
      "application/vnd.jupyter.widget-view+json": {
       "model_id": "1a76b10979ac4fb0b1c5c6aa8f4a70bf",
       "version_major": 2,
       "version_minor": 0
      },
      "text/plain": [
       "Epoch 286:   0%|          | 0/14 [00:00<?, ?train batch/s]"
      ]
     },
     "metadata": {},
     "output_type": "display_data"
    },
    {
     "data": {
      "application/vnd.jupyter.widget-view+json": {
       "model_id": "09f679dd450f48d39762218c409d0ce1",
       "version_major": 2,
       "version_minor": 0
      },
      "text/plain": [
       "Epoch 287:   0%|          | 0/14 [00:00<?, ?train batch/s]"
      ]
     },
     "metadata": {},
     "output_type": "display_data"
    },
    {
     "data": {
      "application/vnd.jupyter.widget-view+json": {
       "model_id": "13fd3aabd691421083feb49d6f3b1bc4",
       "version_major": 2,
       "version_minor": 0
      },
      "text/plain": [
       "Epoch 288:   0%|          | 0/14 [00:00<?, ?train batch/s]"
      ]
     },
     "metadata": {},
     "output_type": "display_data"
    },
    {
     "data": {
      "application/vnd.jupyter.widget-view+json": {
       "model_id": "860ab39f8dbb44ac8a2bd12ac395526b",
       "version_major": 2,
       "version_minor": 0
      },
      "text/plain": [
       "Epoch 289:   0%|          | 0/14 [00:00<?, ?train batch/s]"
      ]
     },
     "metadata": {},
     "output_type": "display_data"
    },
    {
     "data": {
      "application/vnd.jupyter.widget-view+json": {
       "model_id": "3e4fb2c338c6495ab7a02f26ac6db91b",
       "version_major": 2,
       "version_minor": 0
      },
      "text/plain": [
       "Epoch 290:   0%|          | 0/14 [00:00<?, ?train batch/s]"
      ]
     },
     "metadata": {},
     "output_type": "display_data"
    },
    {
     "data": {
      "application/vnd.jupyter.widget-view+json": {
       "model_id": "6980be7026b448bf999665a15ecea67f",
       "version_major": 2,
       "version_minor": 0
      },
      "text/plain": [
       "Epoch 291:   0%|          | 0/14 [00:00<?, ?train batch/s]"
      ]
     },
     "metadata": {},
     "output_type": "display_data"
    },
    {
     "data": {
      "application/vnd.jupyter.widget-view+json": {
       "model_id": "5277a861134f442f95f41d0e345dc169",
       "version_major": 2,
       "version_minor": 0
      },
      "text/plain": [
       "Epoch 292:   0%|          | 0/14 [00:00<?, ?train batch/s]"
      ]
     },
     "metadata": {},
     "output_type": "display_data"
    },
    {
     "data": {
      "application/vnd.jupyter.widget-view+json": {
       "model_id": "7a72bda9e09b41b8908acb29d998eb6b",
       "version_major": 2,
       "version_minor": 0
      },
      "text/plain": [
       "Epoch 293:   0%|          | 0/14 [00:00<?, ?train batch/s]"
      ]
     },
     "metadata": {},
     "output_type": "display_data"
    },
    {
     "data": {
      "application/vnd.jupyter.widget-view+json": {
       "model_id": "2819a202d73b48898f2f068a1b356002",
       "version_major": 2,
       "version_minor": 0
      },
      "text/plain": [
       "Epoch 294:   0%|          | 0/14 [00:00<?, ?train batch/s]"
      ]
     },
     "metadata": {},
     "output_type": "display_data"
    },
    {
     "data": {
      "application/vnd.jupyter.widget-view+json": {
       "model_id": "b3a0c3bf847a4caa90f484ecf0afc804",
       "version_major": 2,
       "version_minor": 0
      },
      "text/plain": [
       "Epoch 295:   0%|          | 0/14 [00:00<?, ?train batch/s]"
      ]
     },
     "metadata": {},
     "output_type": "display_data"
    },
    {
     "data": {
      "application/vnd.jupyter.widget-view+json": {
       "model_id": "573dff6ea629489989158917477f9294",
       "version_major": 2,
       "version_minor": 0
      },
      "text/plain": [
       "Epoch 296:   0%|          | 0/14 [00:00<?, ?train batch/s]"
      ]
     },
     "metadata": {},
     "output_type": "display_data"
    },
    {
     "data": {
      "application/vnd.jupyter.widget-view+json": {
       "model_id": "32338fdf522c4056abf54c8fc0a0c1e8",
       "version_major": 2,
       "version_minor": 0
      },
      "text/plain": [
       "Epoch 297:   0%|          | 0/14 [00:00<?, ?train batch/s]"
      ]
     },
     "metadata": {},
     "output_type": "display_data"
    },
    {
     "data": {
      "application/vnd.jupyter.widget-view+json": {
       "model_id": "daa1778d43014fdebf3f96b950afbd1f",
       "version_major": 2,
       "version_minor": 0
      },
      "text/plain": [
       "Epoch 298:   0%|          | 0/14 [00:00<?, ?train batch/s]"
      ]
     },
     "metadata": {},
     "output_type": "display_data"
    },
    {
     "data": {
      "application/vnd.jupyter.widget-view+json": {
       "model_id": "16baaa7af2844b559eb7857dd30a95fa",
       "version_major": 2,
       "version_minor": 0
      },
      "text/plain": [
       "Epoch 299:   0%|          | 0/14 [00:00<?, ?train batch/s]"
      ]
     },
     "metadata": {},
     "output_type": "display_data"
    },
    {
     "data": {
      "application/vnd.jupyter.widget-view+json": {
       "model_id": "c0250b9d43a04a94a37a394e9d782e4d",
       "version_major": 2,
       "version_minor": 0
      },
      "text/plain": [
       "Epoch 300:   0%|          | 0/14 [00:00<?, ?train batch/s]"
      ]
     },
     "metadata": {},
     "output_type": "display_data"
    },
    {
     "name": "stdout",
     "output_type": "stream",
     "text": [
      "--- Evaluation at iteration 300 ---\n"
     ]
    },
    {
     "data": {
      "application/vnd.jupyter.widget-view+json": {
       "model_id": "42b1c2bf21e941c29cb38010dc10c718",
       "version_major": 2,
       "version_minor": 0
      },
      "text/plain": [
       "Evaluation:   0%|          | 0/14 [00:00<?, ? Train batch/s]"
      ]
     },
     "metadata": {},
     "output_type": "display_data"
    },
    {
     "name": "stdout",
     "output_type": "stream",
     "text": [
      "\tTrain set: Loss: 0.5071, Acc: 75.91%, Balanced Acc: 75.37%, F1: 0.6069, MCC: 0.4572\n"
     ]
    },
    {
     "data": {
      "application/vnd.jupyter.widget-view+json": {
       "model_id": "0cb5bfe0fe424cd1a9751f1833253c03",
       "version_major": 2,
       "version_minor": 0
      },
      "text/plain": [
       "Evaluation:   0%|          | 0/1 [00:00<?, ? Validation batch/s]"
      ]
     },
     "metadata": {},
     "output_type": "display_data"
    },
    {
     "name": "stdout",
     "output_type": "stream",
     "text": [
      "\tValidation set: Loss: 1.6114, Acc: 0.00%, Balanced Acc: 0.00%, F1: 0.0000, MCC: 0.0000\n"
     ]
    },
    {
     "name": "stderr",
     "output_type": "stream",
     "text": [
      "/home/gdallagl/.pyenv/versions/esm2_env/lib/python3.11/site-packages/sklearn/metrics/_classification.py:2801: UserWarning: y_pred contains classes not in y_true\n",
      "  warnings.warn(\"y_pred contains classes not in y_true\")\n"
     ]
    },
    {
     "data": {
      "application/vnd.jupyter.widget-view+json": {
       "model_id": "2b4105cdcf6145d0b3160da53a15e594",
       "version_major": 2,
       "version_minor": 0
      },
      "text/plain": [
       "Evaluation:   0%|          | 0/4 [00:00<?, ? Test batch/s]"
      ]
     },
     "metadata": {},
     "output_type": "display_data"
    },
    {
     "name": "stdout",
     "output_type": "stream",
     "text": [
      "\tTest set: Loss: 0.5438, Acc: 74.53%, Balanced Acc: 72.09%, F1: 0.5645, MCC: 0.4014\n"
     ]
    }
   ],
   "source": [
    "#results = mf.train(net, train_dl, valid_dl, test_dl, loss_fn, config)\n",
    "results = mf.train(net, train_dl, valid_dl, test_dl, loss_fn, config, from_precomputed_embs=config[\"FROM_PRECOMPUTED_EMBS\"]) # precomputed are in the dataloder"
   ]
  },
  {
   "cell_type": "markdown",
   "id": "0d1975c9",
   "metadata": {},
   "source": [
    "### Plot"
   ]
  },
  {
   "cell_type": "code",
   "execution_count": 14,
   "id": "71e765b3",
   "metadata": {},
   "outputs": [
    {
     "name": "stdout",
     "output_type": "stream",
     "text": [
      "\n",
      "================================================================================\n",
      "                         FINAL EVALUATION METRICS\n",
      "================================================================================\n",
      "Metric                    Train      Validation            Test\n",
      "--------------- --------------- --------------- ---------------\n",
      "Loss                     0.5071          1.6114          0.5438\n",
      "Accuracy                 75.91%           0.00%          74.53%\n",
      "Balanced Acc             75.37%           0.00%          72.09%\n",
      "F1 Score                 0.6069          0.0000          0.5645\n",
      "MCC                      0.4572          0.0000          0.4014\n",
      "================================================================================\n"
     ]
    },
    {
     "data": {
      "image/png": "[encoded data removed]",
      "text/plain": [
       "<Figure size 1800x1000 with 6 Axes>"
      ]
     },
     "metadata": {},
     "output_type": "display_data"
    },
    {
     "name": "stdout",
     "output_type": "stream",
     "text": [
      "\n",
      "================================================================================\n",
      "                         TEST SET CLASSIFICATION REPORT\n",
      "================================================================================\n",
      "              precision    recall  f1-score   support\n",
      "\n",
      "     Class 0     0.8786    0.7688    0.8200       160\n",
      "     Class 1     0.4861    0.6731    0.5645        52\n",
      "\n",
      "    accuracy                         0.7453       212\n",
      "   macro avg     0.6823    0.7209    0.6923       212\n",
      "weighted avg     0.7823    0.7453    0.7573       212\n",
      "\n",
      "================================================================================\n",
      "\n"
     ]
    }
   ],
   "source": [
    "mf.summarize_training(*results)"
   ]
  },
  {
   "cell_type": "markdown",
   "id": "5afc936e",
   "metadata": {},
   "source": [
    "### Save Model"
   ]
  },
  {
   "cell_type": "code",
   "execution_count": 15,
   "id": "92ae5d4a",
   "metadata": {},
   "outputs": [],
   "source": [
    "torch.save(net, config[\"PATH_TO_SAVE_MODEL\"])"
   ]
  },
  {
   "cell_type": "markdown",
   "id": "fddce270",
   "metadata": {},
   "source": [
    "### Load Model"
   ]
  },
  {
   "cell_type": "code",
   "execution_count": 16,
   "id": "c54f9884",
   "metadata": {},
   "outputs": [
    {
     "name": "stderr",
     "output_type": "stream",
     "text": [
      "/tmp/ipykernel_24395/3766833804.py:1: FutureWarning: You are using `torch.load` with `weights_only=False` (the current default value), which uses the default pickle module implicitly. It is possible to construct malicious pickle data which will execute arbitrary code during unpickling (See https://github.com/pytorch/pytorch/blob/main/SECURITY.md#untrusted-models for more details). In a future release, the default value for `weights_only` will be flipped to `True`. This limits the functions that could be executed during unpickling. Arbitrary objects will no longer be allowed to be loaded via this mode unless they are explicitly allowlisted by the user via `torch.serialization.add_safe_globals`. We recommend you start setting `weights_only=True` for any use case where you don't have full control of the loaded file. Please open an issue on GitHub for any issues related to this experimental feature.\n",
      "  net = torch.load(config[\"PATH_TO_SAVE_MODEL\"])\n"
     ]
    },
    {
     "data": {
      "text/plain": [
       "EsmDeepSec(\n",
       "  (esm_model): EsmModel(\n",
       "    (embeddings): EsmEmbeddings(\n",
       "      (word_embeddings): Embedding(33, 480, padding_idx=1)\n",
       "      (dropout): Dropout(p=0.0, inplace=False)\n",
       "    )\n",
       "    (encoder): EsmEncoder(\n",
       "      (layer): ModuleList(\n",
       "        (0-11): 12 x EsmLayer(\n",
       "          (attention): EsmAttention(\n",
       "            (self): EsmSelfAttention(\n",
       "              (query): Linear(in_features=480, out_features=480, bias=True)\n",
       "              (key): Linear(in_features=480, out_features=480, bias=True)\n",
       "              (value): Linear(in_features=480, out_features=480, bias=True)\n",
       "              (rotary_embeddings): RotaryEmbedding()\n",
       "            )\n",
       "            (output): EsmSelfOutput(\n",
       "              (dense): Linear(in_features=480, out_features=480, bias=True)\n",
       "              (dropout): Dropout(p=0.0, inplace=False)\n",
       "            )\n",
       "            (LayerNorm): LayerNorm((480,), eps=1e-05, elementwise_affine=True)\n",
       "          )\n",
       "          (intermediate): EsmIntermediate(\n",
       "            (dense): Linear(in_features=480, out_features=1920, bias=True)\n",
       "          )\n",
       "          (output): EsmOutput(\n",
       "            (dense): Linear(in_features=1920, out_features=480, bias=True)\n",
       "            (dropout): Dropout(p=0.0, inplace=False)\n",
       "          )\n",
       "          (LayerNorm): LayerNorm((480,), eps=1e-05, elementwise_affine=True)\n",
       "        )\n",
       "      )\n",
       "      (emb_layer_norm_after): LayerNorm((480,), eps=1e-05, elementwise_affine=True)\n",
       "    )\n",
       "    (pooler): EsmPooler(\n",
       "      (dense): Linear(in_features=480, out_features=480, bias=True)\n",
       "      (activation): Tanh()\n",
       "    )\n",
       "    (contact_head): EsmContactPredictionHead(\n",
       "      (regression): Linear(in_features=240, out_features=1, bias=True)\n",
       "      (activation): Sigmoid()\n",
       "    )\n",
       "  )\n",
       "  (class_head): LogisticRegressionHead(\n",
       "    (classifier): Linear(in_features=480, out_features=2, bias=True)\n",
       "  )\n",
       ")"
      ]
     },
     "execution_count": 16,
     "metadata": {},
     "output_type": "execute_result"
    }
   ],
   "source": [
    "net = torch.load(config[\"PATH_TO_SAVE_MODEL\"])\n",
    "net.eval()"
   ]
  },
  {
   "cell_type": "markdown",
   "id": "3a9f340a",
   "metadata": {},
   "source": [
    "### Umaps\n",
    "\n",
    "Many types of embeddings can be extracted from different moments inside the model:\n",
    "\n",
    "**1. From the ESM backbone**\n",
    "- **ESM mean** → mean pooling over all token embeddings.  \n",
    "- **ESM max** → max pooling over all token embeddings.  \n",
    "- **ESM CLS** → embedding of the special classification token (first position).  \n",
    "- **ESM tokens** → full sequence of token-level embeddings `[batch, seq_len, hidden_dim]`.  \n",
    "- (Optional) **Layerwise embeddings** → extracting hidden states from multiple layers (e.g. last 4).\n",
    "\n",
    "**2. From the feature head (AttentionClassificationHead)**\n",
    "- **Feature mean** → mean pooling after attention + FFNN.  \n",
    "- **Feature max** → max pooling after attention + FFNN.  \n",
    "- **Feature CLS** → CLS token representation after attention + FFNN.  \n",
    "- **Feature concat** → concatenation of mean and max pooling (used for classification).  "
   ]
  },
  {
   "cell_type": "code",
   "execution_count": 17,
   "id": "fd62165d",
   "metadata": {},
   "outputs": [
    {
     "name": "stdout",
     "output_type": "stream",
     "text": [
      "\n",
      "Extracting embeddings from training set...\n",
      "\n"
     ]
    },
    {
     "name": "stderr",
     "output_type": "stream",
     "text": [
      "                                                         \r"
     ]
    },
    {
     "name": "stdout",
     "output_type": "stream",
     "text": [
      "All possbile embedding given current model architecrure:\n",
      "class_head_embs_input_features: (855, 480)\n",
      "precomputed_embs: (855, 480)\n",
      "\n",
      "Computing UMAP embeddings...\n",
      "\n",
      "Computing UMAP for class_head_embs_input_features with shape (855, 480)...\n",
      "Computing UMAP for precomputed_embs with shape (855, 480)...\n",
      "\n",
      "Plotting UMAP embeddings...\n",
      "\n"
     ]
    },
    {
     "data": {
      "image/png": "[encoded data removed]",
      "text/plain": [
       "<Figure size 1200x1800 with 6 Axes>"
      ]
     },
     "metadata": {},
     "output_type": "display_data"
    }
   ],
   "source": [
    "DATALOADER = train_dl\n",
    "\n",
    "#############################\n",
    "###### EXTRACT EMBEDDINGS\n",
    "#############################\n",
    "\n",
    "print(\"\\nExtracting embeddings from training set...\\n\")\n",
    "\n",
    "# Extract embeddings\n",
    "train_embeddings, names, labels, predictions = my_embs.extract_embeddings(\n",
    "    net=net,\n",
    "    dl=DATALOADER,\n",
    "    device=config[\"DEVICE\"],\n",
    "    return_numpy=True, # set to False if you want torch tensors instead\n",
    "    from_precomputed_embs=config[\"FROM_PRECOMPUTED_EMBS\"]\n",
    ")\n",
    "\n",
    "print(\"All possbile embedding given current model architecrure:\")\n",
    "# Example: check shapes\n",
    "for key, emb in train_embeddings.items():\n",
    "    if (emb is not None):\n",
    "        print(f\"{key}: {emb.shape}\")\n",
    "\n",
    "# for key, emb in train_embeddings.items():\n",
    "#     if emb is not None:\n",
    "#         print(f\"\\n{key}:\")\n",
    "#         print(f\"  Type: {type(emb)}\")\n",
    "#         print(f\"  Shape: {emb.shape}\")\n",
    "#         print(f\"  Dtype: {emb.dtype}\")\n",
    "#         print(f\"  Contains NaN: {np.isnan(emb).any()}\")\n",
    "#         print(f\"  Contains Inf: {np.isinf(emb).any()}\")\n",
    "#         print(f\"  Min: {np.nanmin(emb) if emb.size > 0 else 'empty'}\")\n",
    "#         print(f\"  Max: {np.nanmax(emb) if emb.size > 0 else 'empty'}\")\n",
    "#         print(f\"  All NaN: {np.isnan(emb).all()}\")\n",
    "#     else:\n",
    "#         print(f\"\\n{key}: None\")\n",
    "\n",
    "#############################\n",
    "###### CALCULATE UMAP\n",
    "#############################\n",
    "\n",
    "print(\"\\nComputing UMAP embeddings...\\n\")\n",
    "\n",
    "umap_tensors = my_embs.compute_umap_tensors( #dict of tensors\n",
    "    embeddings_dict=train_embeddings,\n",
    ")\n",
    "\n",
    "#############################\n",
    "###### PLOT\n",
    "#############################\n",
    "\n",
    "print(\"\\nPlotting UMAP embeddings...\\n\")\n",
    "\n",
    "if len(list(train_embeddings)) != 0:\n",
    "    df = my_embs.plot_umap_embeddings(umap_tensors, names, labels, predictions)\n",
    "else:\n",
    "    print(\"No embs to plot\")"
   ]
  },
  {
   "cell_type": "code",
   "execution_count": 18,
   "id": "a53ff07a",
   "metadata": {},
   "outputs": [
    {
     "ename": "KeyError",
     "evalue": "'class_head_embs_mlp_layer3'",
     "output_type": "error",
     "traceback": [
      "\u001b[31m---------------------------------------------------------------------------\u001b[39m",
      "\u001b[31mKeyError\u001b[39m                                  Traceback (most recent call last)",
      "\u001b[36mCell\u001b[39m\u001b[36m \u001b[39m\u001b[32mIn[18]\u001b[39m\u001b[32m, line 4\u001b[39m\n\u001b[32m      1\u001b[39m \u001b[38;5;28;01mfrom\u001b[39;00m\u001b[38;5;250m \u001b[39m\u001b[34;01msklearn\u001b[39;00m\u001b[34;01m.\u001b[39;00m\u001b[34;01mcluster\u001b[39;00m\u001b[38;5;250m \u001b[39m\u001b[38;5;28;01mimport\u001b[39;00m KMeans\n\u001b[32m      3\u001b[39m df_precomputed = df[\u001b[33m\"\u001b[39m\u001b[33mprecomputed_embs\u001b[39m\u001b[33m\"\u001b[39m].copy()\n\u001b[32m----> \u001b[39m\u001b[32m4\u001b[39m df_precomputed = \u001b[43mdf\u001b[49m\u001b[43m[\u001b[49m\u001b[33;43m\"\u001b[39;49m\u001b[33;43mclass_head_embs_mlp_layer3\u001b[39;49m\u001b[33;43m\"\u001b[39;49m\u001b[43m]\u001b[49m.copy()\n\u001b[32m      7\u001b[39m \u001b[38;5;66;03m# Define the features for clustering (the UMAP coordinates)\u001b[39;00m\n\u001b[32m      8\u001b[39m X_for_clustering = df_precomputed[[\u001b[33m'\u001b[39m\u001b[33mUMAP1\u001b[39m\u001b[33m'\u001b[39m, \u001b[33m'\u001b[39m\u001b[33mUMAP2\u001b[39m\u001b[33m'\u001b[39m]]\n",
      "\u001b[31mKeyError\u001b[39m: 'class_head_embs_mlp_layer3'"
     ]
    }
   ],
   "source": [
    "from sklearn.cluster import KMeans\n",
    "\n",
    "df_precomputed = df[\"precomputed_embs\"].copy()\n",
    "df_precomputed = df[\"class_head_embs_mlp_layer3\"].copy()\n",
    "\n",
    "\n",
    "# Define the features for clustering (the UMAP coordinates)\n",
    "X_for_clustering = df_precomputed[['UMAP1', 'UMAP2']]\n",
    "\n",
    "# Define the number of clusters (you should optimize this, e.g., using the Elbow Method)\n",
    "K = 20\n",
    "\n",
    "# Initialize and fit the K-Means model\n",
    "kmeans = KMeans(n_clusters=K, random_state=42, n_init=10)\n",
    "cluster_labels = kmeans.fit_predict(X_for_clustering)\n",
    "\n",
    "# Save the cluster labels back to the DataFrame\n",
    "df_precomputed['Cluster_Label'] = cluster_labels\n",
    "print(f\"Clustering complete. Added 'Cluster_Label' column to the DataFrame.\")\n",
    "print(df_precomputed.head())\n",
    "\n",
    "my_embs.plot_umap_clusters(df_precomputed, point_size=5)"
   ]
  },
  {
   "cell_type": "code",
   "execution_count": null,
   "id": "7ac78c04",
   "metadata": {},
   "outputs": [],
   "source": [
    "print(df_precomputed[df_precomputed.Cluster_Label == 2].Name.to_list()) \n",
    "print(df_precomputed[df_precomputed.Cluster_Label == 18].Name.to_list()) "
   ]
  },
  {
   "cell_type": "code",
   "execution_count": null,
   "id": "11def979",
   "metadata": {},
   "outputs": [],
   "source": [
    "# wrong lablled\n",
    "print(df_precomputed[(df_precomputed.CorrectStr == \"wrong\")].Name.to_list())"
   ]
  },
  {
   "cell_type": "code",
   "execution_count": null,
   "id": "39bd36e3",
   "metadata": {},
   "outputs": [],
   "source": [
    "DATALOADER = test_dl\n",
    "\n",
    "#############################\n",
    "###### EXTRACT EMBEDDINGS\n",
    "#############################\n",
    "\n",
    "print(\"\\nExtracting embeddings from training set...\\n\")\n",
    "\n",
    "# Extract embeddings\n",
    "train_embeddings, names, labels, predictions = my_embs.extract_embeddings(\n",
    "    net=net,\n",
    "    dl=DATALOADER,\n",
    "    device=config[\"DEVICE\"],\n",
    "    return_numpy=True, # set to False if you want torch tensors instead\n",
    "    from_precomputed_embs=config[\"FROM_PRECOMPUTED_EMBS\"]\n",
    ")\n",
    "\n",
    "print(\"All possbile embedding given current model architecrure:\")\n",
    "# Example: check shapes\n",
    "for key, emb in train_embeddings.items():\n",
    "    if (emb is not None):\n",
    "        print(f\"{key}: {emb.shape}\")\n",
    "\n",
    "#############################\n",
    "###### CALCULATE UMAP\n",
    "#############################\n",
    "\n",
    "print(\"\\nComputing UMAP embeddings...\\n\")\n",
    "\n",
    "umap_tensors = my_embs.compute_umap_tensors( #dict of tensors\n",
    "    embeddings_dict=train_embeddings,\n",
    ")\n",
    "\n",
    "#############################\n",
    "###### PLOT\n",
    "#############################\n",
    "\n",
    "print(\"\\nPlotting UMAP embeddings...\\n\")\n",
    "\n",
    "if len(list(train_embeddings)) != 0:\n",
    "    df = my_embs.plot_umap_embeddings(umap_tensors, names, labels, predictions)\n",
    "else:\n",
    "    print(\"No embs to plot\")"
   ]
  },
  {
   "cell_type": "code",
   "execution_count": null,
   "id": "2985b856",
   "metadata": {},
   "outputs": [],
   "source": [
    "df_tmp = df[\"precomputed_embs\"]\n",
    "df_tmp[(df_tmp[\"CorrectStr\"] == \"wrong\") & (df_tmp[\"TrueClass\"] == \"1\")]\n",
    "\n",
    "#df[df['CorrectStr'] == 'correct']\n"
   ]
  },
  {
   "cell_type": "markdown",
   "id": "eadb2d2c",
   "metadata": {},
   "source": [
    "# A-scanning"
   ]
  },
  {
   "cell_type": "code",
   "execution_count": null,
   "id": "b57dad9a",
   "metadata": {},
   "outputs": [],
   "source": [
    "PROTEIN = \"P00374\" #df[(df[\"CorrectStr\"] == \"correct\") & (df[\"TrueClass\"] == \"1\")].iloc[0].Name\n",
    "    # Q4QAE3\n",
    "#\"A0A8V8TKW5\" #\"P39039\" # \"Q91VU0\"\n",
    "WINDOW_SIZE_FRACTION = 0.01 # 10% of sequence length\n",
    "SUBSTITUTE_AA = [\"A\", \"R\", \"E\", \"F\"] #\"<pad>\", \"A\", \"P\"\n",
    "WINDOW_SIZE_SUBSTITUION = 5 #int(single_protein_info.trunc_sequence_length * WINDOW_SIZE_FRACTION // 2 * 2 + 1) # make it odd\n",
    "print(\"window size: \", WINDOW_SIZE_SUBSTITUION)\n",
    "\n",
    "##############################\n",
    "\n",
    "net.from_precomputed_embs = False # need to recompute embs for each mutation\n",
    "# ATTNETION: use SAME intial embs (embs passed to calssfricvation head) used IN TRAINING!!\n",
    "net.type_emb_for_classification = config[\"TYPE_EMB_FOR_CLASSIFICATION\"] \n",
    "\n",
    "##############################\n",
    "# select single port data\n",
    "\n",
    "idx = [cache_data[\"protein\"].index(PROTEIN)] # encapslu in a lsit\n",
    "selected_protein_data = my_dataset.subset_data_dict(cache_data, idx)\n",
    "#print(selected_protein_data)\n",
    "\n",
    "##############################\n",
    "# calcualte baseline prob\n",
    "\n",
    "baseline_prob = my_scanning.get_prob_single_protein(net, selected_protein_data, device=\"cuda\")\n",
    "print(baseline_prob)\n",
    "\n",
    "##############################\n",
    "# create all mutatios\n",
    "\n",
    "all_mutated_seqs = my_scanning.create_all_mutations(selected_protein_data[\"truncated_sequence\"][0], WINDOW_SIZE_SUBSTITUION, SUBSTITUTE_AA)\n",
    "tot_mutations = len(all_mutated_seqs)\n",
    "print(tot_mutations,  len(list(selected_protein_data[\"truncated_sequence\"][0])) * len(SUBSTITUTE_AA))\n",
    "\n",
    "# create dict\n",
    "cache_mutations = {\n",
    "    \"protein\": [selected_protein_data[\"protein\"][0]] * tot_mutations,\n",
    "    \"label\": torch.tensor([selected_protein_data[\"label\"][0]] * tot_mutations),\n",
    "    \"set\": [selected_protein_data[\"set\"][0]] * tot_mutations,\n",
    "    \"sequence\": all_mutated_seqs, \n",
    "    \"truncated_sequence\": all_mutated_seqs, \n",
    "}\n",
    "# tokenize AS ABOVE (start ntoebook)\n",
    "encoded = tokenizer(\n",
    "    list(cache_mutations[\"truncated_sequence\"]),\n",
    "    padding='max_length',\n",
    "    max_length=config[\"PROTEIN_MAX_LENGTH\"],\n",
    "    truncation=True,\n",
    "    return_tensors=\"pt\"\n",
    ")\n",
    "# add to dict\n",
    "cache_mutations['input_ids'] =  encoded[\"input_ids\"]  \n",
    "cache_mutations[ 'attention_mask'] =  encoded[\"attention_mask\"]\n",
    "# ATTNETION: fake embs, as force to calculte here\n",
    "cache_mutations[\"embedding\"] = torch.zeros((tot_mutations, 1), dtype=torch.float32)\n",
    "\n"
   ]
  },
  {
   "cell_type": "code",
   "execution_count": null,
   "id": "b97c1bf5",
   "metadata": {},
   "outputs": [],
   "source": [
    "scan_results = my_scanning.multi_aa_scanning_final(\n",
    "    model=net,\n",
    "    baseline_prob=baseline_prob,\n",
    "    cache_mutations=cache_mutations,\n",
    "    substitute_aas=SUBSTITUTE_AA,\n",
    "    window_size=WINDOW_SIZE_SUBSTITUION,\n",
    "    normalise_true_substitution=False,\n",
    "    device=\"cuda\"\n",
    ")"
   ]
  },
  {
   "cell_type": "code",
   "execution_count": null,
   "id": "341266d8",
   "metadata": {},
   "outputs": [],
   "source": [
    "my_scanning.plot_multi_aa_scan(scan_results, show_per_aa=False)"
   ]
  },
  {
   "cell_type": "code",
   "execution_count": null,
   "id": "31b6f1ed",
   "metadata": {},
   "outputs": [],
   "source": [
    "selected_protein_data"
   ]
  },
  {
   "cell_type": "markdown",
   "id": "6f80e892",
   "metadata": {},
   "source": [
    "# AAAAAAAAAAAAAAAAAAAAAAAAAAAAAA\n",
    "# AAAAAAAAAAAAAAAAAAAAAAAAAAAAAA"
   ]
  },
  {
   "cell_type": "markdown",
   "id": "3468d8a7",
   "metadata": {},
   "source": [
    "### A-scanning Logits"
   ]
  },
  {
   "cell_type": "code",
   "execution_count": null,
   "id": "386211a1",
   "metadata": {},
   "outputs": [],
   "source": [
    "def prob_to_logit(p):\n",
    "    \"\"\"\n",
    "    Convert probability of class 1 to logit (binary case)\n",
    "    p: float or np.array of probabilities (0 < p < 1)\n",
    "    returns: logit value(s)\n",
    "    \"\"\"\n",
    "    p = np.clip(p, 1e-15, 1 - 1e-15)  # avoid log(0)\n",
    "    return np.log(p / (1 - p))\n",
    "\n",
    "\n",
    "PROTEIN = \"P05997\" #\"Q6ZRI0\" #\"P01270\" #\"O60938\" #\"P05997\"\n",
    "WINDOW_SIZE_FRACTION = 0.01 # 10% of sequence length\n",
    "SUBSTITUTE_AA = \"A\" #\"<pad>\", \"A\", \"P\"\n",
    "\n",
    "# Extract info\n",
    "single_protein_info = data_df[data_df['protein'] == PROTEIN].iloc[0]\n",
    "display(single_protein_info)\n",
    "\n",
    "WINDOW_SIZE_SUBSTITUION = int(single_protein_info.trunc_sequence_length * WINDOW_SIZE_FRACTION // 2 * 2 + 1) # make it odd\n",
    "print(WINDOW_SIZE_SUBSTITUION)\n",
    "\n",
    "# Run alanine scanning\n",
    "results = mf.alanine_scanning(\n",
    "    model=net,\n",
    "    tokenizer=tokenizer,\n",
    "    single_protein_info=single_protein_info,\n",
    "    window_size=WINDOW_SIZE_SUBSTITUION, # make it odd\n",
    "    device=config[\"DEVICE\"],\n",
    "    SUBSTITUTE_AA=SUBSTITUTE_AA,\n",
    "    normalise_true_substitution=True #normalise by number of true substitutions (not A->A\n",
    ")\n",
    "\n",
    "# calcuate logits\n",
    "baseline_logit = prob_to_logit(results['baseline_prob'])\n",
    "mutated_logits = prob_to_logit(results['mutated_probs'])\n",
    "delta_logit = mutated_logits - baseline_logit\n",
    "\n",
    "mf.plot_alanine_scan(\n",
    "    delta_p=delta_logit,\n",
    "    sequence=results['sequence'],\n",
    "    protein_name=results['protein_name'],\n",
    "    sigma=3,\n",
    "    threshold=True,\n",
    "    highlight_residues=True,\n",
    "    top_n=10,\n",
    "    show_sequence=False,\n",
    "    style='whitegrid'  # Options: 'darkgrid', 'whitegrid', 'dark', 'white', 'ticks'\n",
    ")"
   ]
  },
  {
   "cell_type": "markdown",
   "id": "fb9b8c87",
   "metadata": {},
   "source": [
    "### Random prot"
   ]
  },
  {
   "cell_type": "code",
   "execution_count": null,
   "id": "cf3241c0",
   "metadata": {},
   "outputs": [],
   "source": [
    "random_prot = \"MVMAAAKKNMQQLDSFKGDDSIDHEIATPYSWQRKFSGESKAIALGMYGTKMISCGQWRDQACYILYWVFWYPYFNVSQESIVLQYDLPHYGYDIFKPYINQTARCCPHHPQEAMNSEGNTVPACYAAVGQADPPIFDIAYSIMILRPLYGTCNPTGFQNVMNAIWSEEMAMFTQTHYVLPYRYPYQTYRLTSFSSRIMMENAGACEWESMVNFIFRTVAKRCKDKEYLFGNCAWTRLWSIAPHQWKWPSKNTHMYIDHFVEKGKQEELSNASWHTYLATSICPAHHHDWVWWNFEFWLCHFTEMDT\"\n",
    "random_label = 0\n",
    "random_name = \"Random_Prot\"\n",
    "random_data = pd.DataFrame([{\n",
    "    'sequence': random_prot,\n",
    "    'label': random_label,\n",
    "    'protein': random_name,\n",
    "    'set': 'test'\n",
    "}])\n",
    "\n",
    "# Preprocess each sequence individually\n",
    "random_preprocessed_data = []\n",
    "for idx, row in tqdm(random_data.iterrows(), total=len(random_data)):\n",
    "    processed = my_dataset.preprocess_sequence(\n",
    "        sequence=row['sequence'],\n",
    "        label=row['label'],\n",
    "        protein_name=row['protein'],\n",
    "        tokenizer=tokenizer,\n",
    "        protein_max_length=config[\"PROTEIN_MAX_LENGTH\"]\n",
    "    )\n",
    "    random_preprocessed_data.append(processed)\n",
    "\n",
    "# Create DataFrame from preprocessed data\n",
    "random_data_df = pd.DataFrame(random_preprocessed_data)\n",
    "\n",
    "# Add the 'set' column back from original data\n",
    "random_data_df['set'] = random_data['set'].values\n",
    "\n",
    "############################################\n",
    "\n",
    "random_dl = my_dataset.create_dataloader(random_data_df, 'test', config[\"BATCH_SIZE\"], shuffle=True)\n",
    "\n",
    "# Optional: inspect the DataFrame\n",
    "display(random_data_df.head(5))\n",
    "#print(random_data_df.loc[0, \"input_ids\"])"
   ]
  },
  {
   "cell_type": "code",
   "execution_count": null,
   "id": "1514fdbb",
   "metadata": {},
   "outputs": [],
   "source": [
    "outputs = mf.evaluate_model(net, random_dl, config[\"DEVICE\"], loss_fn=None, split_name=\"Eval\", verbose=True)\n",
    "outputs"
   ]
  },
  {
   "cell_type": "markdown",
   "id": "2aedb01d",
   "metadata": {},
   "source": [
    "### Calibration"
   ]
  },
  {
   "cell_type": "code",
   "execution_count": null,
   "id": "bc6dde5b",
   "metadata": {},
   "outputs": [],
   "source": [
    "outputs = mf.evaluate_model(net, test_dl, config[\"DEVICE\"], loss_fn=loss_fn, split_name=\"Eval\", verbose=True)\n",
    "outputs"
   ]
  },
  {
   "cell_type": "code",
   "execution_count": null,
   "id": "6b030cc9",
   "metadata": {},
   "outputs": [],
   "source": [
    "probs = outputs['probs_class1']\n",
    "print(probs)\n",
    "sns.histplot(probs, kde=False, bins=30)  # kde=True if you also want a density curve\n",
    "plt.show()"
   ]
  },
  {
   "cell_type": "code",
   "execution_count": null,
   "id": "65150f37",
   "metadata": {},
   "outputs": [],
   "source": [
    "# Calibration curve\n",
    "\n",
    "from sklearn.calibration import calibration_curve\n",
    "import matplotlib.pyplot as plt\n",
    "\n",
    "# y_true: 0 or 1 labels for your proteins\n",
    "# y_prob: predicted probabilities for class 1\n",
    "\n",
    "#x-axis = average predicted probability in that bin.\n",
    "#y-axis = true fraction positive in that bin.\n",
    "\n",
    "prob_true, prob_pred = calibration_curve(y_true=outputs['labels'], y_prob=outputs['probs_class1'], n_bins=10)\n",
    "\n",
    "plt.plot(prob_pred, prob_true, marker='o', label=\"Model\")\n",
    "plt.plot([0,1],[0,1], linestyle=\"--\", label=\"Perfect calibration\")\n",
    "plt.xlabel(\"Predicted probability\")\n",
    "plt.ylabel(\"True fraction positive\")\n",
    "plt.title(\"Reliability diagram\")\n",
    "plt.legend()\n",
    "plt.show()\n"
   ]
  },
  {
   "cell_type": "code",
   "execution_count": null,
   "id": "80fb83cb",
   "metadata": {},
   "outputs": [],
   "source": []
  }
 ],
 "metadata": {
  "kernelspec": {
   "display_name": "esm2_env",
   "language": "python",
   "name": "python3"
  },
  "language_info": {
   "codemirror_mode": {
    "name": "ipython",
    "version": 3
   },
   "file_extension": ".py",
   "mimetype": "text/x-python",
   "name": "python",
   "nbconvert_exporter": "python",
   "pygments_lexer": "ipython3",
   "version": "3.11.8"
  }
 },
 "nbformat": 4,
 "nbformat_minor": 5
}
